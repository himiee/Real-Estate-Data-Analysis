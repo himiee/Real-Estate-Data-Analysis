{
 "cells": [
  {
   "cell_type": "markdown",
   "metadata": {},
   "source": [
    "###  Web Scraping and EDA analysis Project"
   ]
  },
  {
   "cell_type": "markdown",
   "metadata": {},
   "source": [
    "### Objective/Research Question:\n",
    "\n",
    "1. Relation between Area and Price\n",
    "2. Average Budget as Per Flat Area\n",
    "3. Average Budget a person could have to purchase a flat\n",
    "4. Average Price of flats based on top 10 areas of city with maximum flats\n",
    "\n",
    "**Here I want to understand the Most desirable areas, Bedroom size and Average Price of the city so that it would help a buyer to get an average estimate of budget to purchase a flat in Hyderabad**"
   ]
  },
  {
   "cell_type": "code",
   "execution_count": 1,
   "metadata": {},
   "outputs": [],
   "source": [
    "#Imported Necessary Liabraries\n",
    "\n",
    "import pandas as pd\n",
    "import numpy as np\n",
    "from bs4 import BeautifulSoup\n",
    "import requests                                                                                                                                                                                                       \n",
    "import re\n",
    "import regex\n",
    "import math\n",
    "import seaborn as sns\n",
    "import matplotlib.pyplot as plt\n",
    "%matplotlib inline"
   ]
  },
  {
   "cell_type": "markdown",
   "metadata": {},
   "source": [
    "### Data Scrapping "
   ]
  },
  {
   "cell_type": "code",
   "execution_count": 34,
   "metadata": {},
   "outputs": [],
   "source": [
    "\n",
    "price_list = []\n",
    "bedroom_list = []\n",
    "society_list = []\n",
    "area_list = []\n",
    "address_list = []\n",
    "detail_list = []\n",
    "\n",
    "\n",
    "#To save all the data in th info variable , so that we do not need to run the code again\n",
    "for i in range(30):\n",
    "    \n",
    "    s='https://www.magicbricks.com/property-for-sale/residential-real-estate?&proptype=Multistorey-Apartment,Builder-Floor-Apartment,Penthouse,Studio-Apartment&verified=Y&cityName=Hyderabad&alliance=&banks=&searchType=1&page='+str(i)+'&tab1=&sortBy=premiumRecent&alliance=&banks='\n",
    "    page = requests.get(s)\n",
    "    soup = BeautifulSoup(page.text)\n",
    "    info = soup.find_all('div',attrs={'class':'l-srp__results flex__item'})\n",
    "\n",
    "\n",
    "    \n"
   ]
  },
  {
   "cell_type": "markdown",
   "metadata": {},
   "source": [
    "### Code to scrap the data from the website"
   ]
  },
  {
   "cell_type": "code",
   "execution_count": 11,
   "metadata": {},
   "outputs": [],
   "source": [
    "info = soup.find_all('div',attrs={'class':'l-srp__results flex__item'})\n",
    "\n",
    "\n",
    "    \n",
    "#Price of each property Listed\n",
    "for j in info:\n",
    "    price =j.find_all('div',attrs={'class':'m-srp-card__price'})\n",
    "    for p in price:\n",
    "        if p is None:\n",
    "            price_list.append(np.NaN)\n",
    "        else:\n",
    "            price_list.append(p.text)\n",
    "\n",
    "#Bedroom list\n",
    "for k in info:\n",
    "    bedroom = k.find_all('span',attrs={'class':'m-srp-card__title__bhk'})\n",
    "    for b in bedroom:\n",
    "        if b is None:\n",
    "            bedroom_list.append(np.Nan) \n",
    "        else:\n",
    "            bedroom_list.append(b.text)\n",
    "\n",
    "\n",
    "#Society List          \n",
    "for o in info:\n",
    "    society = o.find_all('a',attrs={'class':'m-srp-card__link'})\n",
    "    for s in society:\n",
    "        if s is None:\n",
    "            society_list.append(np.Nan) \n",
    "        else:\n",
    "            society_list.append(s.text)\n",
    "\n",
    "\n",
    "#Area in Square feet          \n",
    "for m in info:\n",
    "    area = m.find_all('div',attrs={'class':'m-srp-card__summary__info'})\n",
    "    for a in area:\n",
    "        if a is None:\n",
    "            area_list.append(np.Nan)\n",
    "        else:\n",
    "            area_list.append(a.text)\n",
    "\n",
    "#address and bedroom numbers            \n",
    "for n in info:\n",
    "    address = n.find_all('span',attrs={'class':'m-srp-card__title'})\n",
    "    for r in address:\n",
    "        if r is None:\n",
    "            address_list.append(np.NaN)\n",
    "        else:\n",
    "            address_list.append(r.text)\n",
    "\n",
    "#other informations\n",
    "for q in info:\n",
    "    detail = q.find_all('div',attrs={'class':'m-srp-card__summary js-collapse__content'})\n",
    "    for d in detail:\n",
    "        if d is None:\n",
    "            detail_list.append(np.Nan)\n",
    "        else:\n",
    "            detail_list.append(d.text)"
   ]
  },
  {
   "cell_type": "code",
   "execution_count": 12,
   "metadata": {},
   "outputs": [
    {
     "name": "stdout",
     "output_type": "stream",
     "text": [
      "926\n",
      "930\n",
      "463\n",
      "8916\n",
      "930\n",
      "930\n"
     ]
    }
   ],
   "source": [
    "#the kength of each variable\n",
    "print(len(price_list))\n",
    "print(len(bedroom_list))\n",
    "print(len(society_list))\n",
    "print(len(area_list))\n",
    "print(len(address_list))\n",
    "print(len(detail_list))"
   ]
  },
  {
   "cell_type": "code",
   "execution_count": 35,
   "metadata": {
    "scrolled": true
   },
   "outputs": [],
   "source": [
    "#Adjustment to make DataFrame from Different length column\n",
    "\n",
    "a = {'Society':society_list[0:455],'Price':price_list[0:455],'Address':address_list[0:455],'Details':detail_list[0:455]}\n",
    "m1 = pd.DataFrame.from_dict(a,orient='index')\n",
    "df = m1.transpose()"
   ]
  },
  {
   "cell_type": "code",
   "execution_count": 36,
   "metadata": {},
   "outputs": [
    {
     "name": "stdout",
     "output_type": "stream",
     "text": [
      "<class 'pandas.core.frame.DataFrame'>\n",
      "RangeIndex: 0 entries\n",
      "Data columns (total 4 columns):\n",
      " #   Column   Non-Null Count  Dtype  \n",
      "---  ------   --------------  -----  \n",
      " 0   Society  0 non-null      float64\n",
      " 1   Price    0 non-null      float64\n",
      " 2   Address  0 non-null      float64\n",
      " 3   Details  0 non-null      float64\n",
      "dtypes: float64(4)\n",
      "memory usage: 124.0 bytes\n"
     ]
    }
   ],
   "source": [
    "df.info()"
   ]
  },
  {
   "cell_type": "code",
   "execution_count": 27,
   "metadata": {},
   "outputs": [
    {
     "data": {
      "text/html": [
       "<div>\n",
       "<style scoped>\n",
       "    .dataframe tbody tr th:only-of-type {\n",
       "        vertical-align: middle;\n",
       "    }\n",
       "\n",
       "    .dataframe tbody tr th {\n",
       "        vertical-align: top;\n",
       "    }\n",
       "\n",
       "    .dataframe thead th {\n",
       "        text-align: right;\n",
       "    }\n",
       "</style>\n",
       "<table border=\"1\" class=\"dataframe\">\n",
       "  <thead>\n",
       "    <tr style=\"text-align: right;\">\n",
       "      <th></th>\n",
       "      <th>Society</th>\n",
       "      <th>Price</th>\n",
       "      <th>Address</th>\n",
       "      <th>Details</th>\n",
       "    </tr>\n",
       "  </thead>\n",
       "  <tbody>\n",
       "    <tr>\n",
       "      <th>0</th>\n",
       "      <td>Dukes Galaxy</td>\n",
       "      <td>₹ 2.48 Cr</td>\n",
       "      <td>\\n\\n\\n\\t\\t\\t\\t            \\t\\t\\n\\t\\t\\t\\t      ...</td>\n",
       "      <td>\\n\\n\\ncarpet area\\n2020 sqft\\n\\n\\n\\nstatus\\nRe...</td>\n",
       "    </tr>\n",
       "    <tr>\n",
       "      <th>1</th>\n",
       "      <td>Sri Hemadurga Sivahills</td>\n",
       "      <td>₹ 1.14 Cr</td>\n",
       "      <td>\\n\\n\\n\\t\\t\\t\\t            \\t\\t\\n\\t\\t\\t\\t      ...</td>\n",
       "      <td>\\n\\n\\nsuper area\\n1900 sqft\\n\\n\\n\\nstatus\\n\\n\\...</td>\n",
       "    </tr>\n",
       "    <tr>\n",
       "      <th>2</th>\n",
       "      <td>SMR Vinay Iconia</td>\n",
       "      <td>₹ 1.21 Cr</td>\n",
       "      <td>\\n\\n\\n\\t\\t\\t\\t            \\t\\t\\n\\t\\t\\t\\t      ...</td>\n",
       "      <td>\\n\\n\\nsuper area\\n1495 sqft\\n\\n\\n\\n\\ntransacti...</td>\n",
       "    </tr>\n",
       "    <tr>\n",
       "      <th>3</th>\n",
       "      <td>Honer Vivantis</td>\n",
       "      <td>₹ 1.30 Cr</td>\n",
       "      <td>\\n\\n\\n\\t\\t\\t\\t            \\t\\t\\n\\t\\t\\t\\t      ...</td>\n",
       "      <td>\\n\\n\\nsuper area\\n1845 sqft\\n\\n\\n\\nstatus\\nRea...</td>\n",
       "    </tr>\n",
       "    <tr>\n",
       "      <th>4</th>\n",
       "      <td>PBEL City</td>\n",
       "      <td>₹ 42 Lac</td>\n",
       "      <td>\\n\\n\\n\\t\\t\\t\\t            \\t\\t\\n\\t\\t\\t\\t      ...</td>\n",
       "      <td>\\n\\n\\ncarpet area\\n780 sqft\\n\\n\\n\\nstatus\\nRea...</td>\n",
       "    </tr>\n",
       "  </tbody>\n",
       "</table>\n",
       "</div>"
      ],
      "text/plain": [
       "                   Society      Price  \\\n",
       "0             Dukes Galaxy  ₹ 2.48 Cr   \n",
       "1  Sri Hemadurga Sivahills  ₹ 1.14 Cr   \n",
       "2         SMR Vinay Iconia  ₹ 1.21 Cr   \n",
       "3           Honer Vivantis  ₹ 1.30 Cr   \n",
       "4                PBEL City   ₹ 42 Lac   \n",
       "\n",
       "                                             Address  \\\n",
       "0  \\n\\n\\n\\t\\t\\t\\t            \\t\\t\\n\\t\\t\\t\\t      ...   \n",
       "1  \\n\\n\\n\\t\\t\\t\\t            \\t\\t\\n\\t\\t\\t\\t      ...   \n",
       "2  \\n\\n\\n\\t\\t\\t\\t            \\t\\t\\n\\t\\t\\t\\t      ...   \n",
       "3  \\n\\n\\n\\t\\t\\t\\t            \\t\\t\\n\\t\\t\\t\\t      ...   \n",
       "4  \\n\\n\\n\\t\\t\\t\\t            \\t\\t\\n\\t\\t\\t\\t      ...   \n",
       "\n",
       "                                             Details  \n",
       "0  \\n\\n\\ncarpet area\\n2020 sqft\\n\\n\\n\\nstatus\\nRe...  \n",
       "1  \\n\\n\\nsuper area\\n1900 sqft\\n\\n\\n\\nstatus\\n\\n\\...  \n",
       "2  \\n\\n\\nsuper area\\n1495 sqft\\n\\n\\n\\n\\ntransacti...  \n",
       "3  \\n\\n\\nsuper area\\n1845 sqft\\n\\n\\n\\nstatus\\nRea...  \n",
       "4  \\n\\n\\ncarpet area\\n780 sqft\\n\\n\\n\\nstatus\\nRea...  "
      ]
     },
     "execution_count": 27,
     "metadata": {},
     "output_type": "execute_result"
    }
   ],
   "source": [
    "df.head()"
   ]
  },
  {
   "cell_type": "markdown",
   "metadata": {},
   "source": [
    "### Limited Data till 431 Rows as Society names are not available in rest of the data"
   ]
  },
  {
   "cell_type": "code",
   "execution_count": 51,
   "metadata": {},
   "outputs": [],
   "source": [
    "#limiting the column length tikk society column legth\n",
    "\n",
    "df2 = df.iloc[0:431]"
   ]
  },
  {
   "cell_type": "code",
   "execution_count": 52,
   "metadata": {},
   "outputs": [],
   "source": [
    "#TO save the scrapped data in Magic_df CSV file\n",
    "\n",
    "df2.to_csv('Magic_df.csv')"
   ]
  },
  {
   "cell_type": "markdown",
   "metadata": {},
   "source": [
    "### EDA"
   ]
  },
  {
   "cell_type": "markdown",
   "metadata": {},
   "source": [
    "### Importing Data"
   ]
  },
  {
   "cell_type": "code",
   "execution_count": 2,
   "metadata": {},
   "outputs": [],
   "source": [
    "#Importing the final scrapped data saved as csv\n",
    "magic= pd.read_csv('Magic_df.csv')\n"
   ]
  },
  {
   "cell_type": "markdown",
   "metadata": {},
   "source": [
    "### To display the First five rows of the data"
   ]
  },
  {
   "cell_type": "code",
   "execution_count": 3,
   "metadata": {},
   "outputs": [
    {
     "data": {
      "text/html": [
       "<div>\n",
       "<style scoped>\n",
       "    .dataframe tbody tr th:only-of-type {\n",
       "        vertical-align: middle;\n",
       "    }\n",
       "\n",
       "    .dataframe tbody tr th {\n",
       "        vertical-align: top;\n",
       "    }\n",
       "\n",
       "    .dataframe thead th {\n",
       "        text-align: right;\n",
       "    }\n",
       "</style>\n",
       "<table border=\"1\" class=\"dataframe\">\n",
       "  <thead>\n",
       "    <tr style=\"text-align: right;\">\n",
       "      <th></th>\n",
       "      <th>Unnamed: 0</th>\n",
       "      <th>Society</th>\n",
       "      <th>Price</th>\n",
       "      <th>Address</th>\n",
       "      <th>Details</th>\n",
       "    </tr>\n",
       "  </thead>\n",
       "  <tbody>\n",
       "    <tr>\n",
       "      <th>0</th>\n",
       "      <td>0</td>\n",
       "      <td>Dukes Galaxy</td>\n",
       "      <td>₹ 2.48 Cr</td>\n",
       "      <td>\\n\\n\\n\\t\\t\\t\\t            \\t\\t\\n\\t\\t\\t\\t      ...</td>\n",
       "      <td>\\n\\n\\ncarpet area\\n2020 sqft\\n\\n\\n\\nstatus\\nRe...</td>\n",
       "    </tr>\n",
       "    <tr>\n",
       "      <th>1</th>\n",
       "      <td>1</td>\n",
       "      <td>Sri Hemadurga Sivahills</td>\n",
       "      <td>₹ 1.14 Cr</td>\n",
       "      <td>\\n\\n\\n\\t\\t\\t\\t            \\t\\t\\n\\t\\t\\t\\t      ...</td>\n",
       "      <td>\\n\\n\\nsuper area\\n1900 sqft\\n\\n\\n\\nstatus\\n\\n\\...</td>\n",
       "    </tr>\n",
       "    <tr>\n",
       "      <th>2</th>\n",
       "      <td>2</td>\n",
       "      <td>SMR Vinay Iconia</td>\n",
       "      <td>₹ 1.21 Cr</td>\n",
       "      <td>\\n\\n\\n\\t\\t\\t\\t            \\t\\t\\n\\t\\t\\t\\t      ...</td>\n",
       "      <td>\\n\\n\\nsuper area\\n1495 sqft\\n\\n\\n\\n\\ntransacti...</td>\n",
       "    </tr>\n",
       "    <tr>\n",
       "      <th>3</th>\n",
       "      <td>3</td>\n",
       "      <td>Honer Vivantis</td>\n",
       "      <td>₹ 1.30 Cr</td>\n",
       "      <td>\\n\\n\\n\\t\\t\\t\\t            \\t\\t\\n\\t\\t\\t\\t      ...</td>\n",
       "      <td>\\n\\n\\nsuper area\\n1845 sqft\\n\\n\\n\\nstatus\\nRea...</td>\n",
       "    </tr>\n",
       "    <tr>\n",
       "      <th>4</th>\n",
       "      <td>4</td>\n",
       "      <td>PBEL City</td>\n",
       "      <td>₹ 42 Lac</td>\n",
       "      <td>\\n\\n\\n\\t\\t\\t\\t            \\t\\t\\n\\t\\t\\t\\t      ...</td>\n",
       "      <td>\\n\\n\\ncarpet area\\n780 sqft\\n\\n\\n\\nstatus\\nRea...</td>\n",
       "    </tr>\n",
       "  </tbody>\n",
       "</table>\n",
       "</div>"
      ],
      "text/plain": [
       "   Unnamed: 0                  Society      Price  \\\n",
       "0           0             Dukes Galaxy  ₹ 2.48 Cr   \n",
       "1           1  Sri Hemadurga Sivahills  ₹ 1.14 Cr   \n",
       "2           2         SMR Vinay Iconia  ₹ 1.21 Cr   \n",
       "3           3           Honer Vivantis  ₹ 1.30 Cr   \n",
       "4           4                PBEL City   ₹ 42 Lac   \n",
       "\n",
       "                                             Address  \\\n",
       "0  \\n\\n\\n\\t\\t\\t\\t            \\t\\t\\n\\t\\t\\t\\t      ...   \n",
       "1  \\n\\n\\n\\t\\t\\t\\t            \\t\\t\\n\\t\\t\\t\\t      ...   \n",
       "2  \\n\\n\\n\\t\\t\\t\\t            \\t\\t\\n\\t\\t\\t\\t      ...   \n",
       "3  \\n\\n\\n\\t\\t\\t\\t            \\t\\t\\n\\t\\t\\t\\t      ...   \n",
       "4  \\n\\n\\n\\t\\t\\t\\t            \\t\\t\\n\\t\\t\\t\\t      ...   \n",
       "\n",
       "                                             Details  \n",
       "0  \\n\\n\\ncarpet area\\n2020 sqft\\n\\n\\n\\nstatus\\nRe...  \n",
       "1  \\n\\n\\nsuper area\\n1900 sqft\\n\\n\\n\\nstatus\\n\\n\\...  \n",
       "2  \\n\\n\\nsuper area\\n1495 sqft\\n\\n\\n\\n\\ntransacti...  \n",
       "3  \\n\\n\\nsuper area\\n1845 sqft\\n\\n\\n\\nstatus\\nRea...  \n",
       "4  \\n\\n\\ncarpet area\\n780 sqft\\n\\n\\n\\nstatus\\nRea...  "
      ]
     },
     "execution_count": 3,
     "metadata": {},
     "output_type": "execute_result"
    }
   ],
   "source": [
    "magic.head()"
   ]
  },
  {
   "cell_type": "markdown",
   "metadata": {},
   "source": [
    "### To display the Last five rows of the data"
   ]
  },
  {
   "cell_type": "code",
   "execution_count": 4,
   "metadata": {},
   "outputs": [
    {
     "data": {
      "text/html": [
       "<div>\n",
       "<style scoped>\n",
       "    .dataframe tbody tr th:only-of-type {\n",
       "        vertical-align: middle;\n",
       "    }\n",
       "\n",
       "    .dataframe tbody tr th {\n",
       "        vertical-align: top;\n",
       "    }\n",
       "\n",
       "    .dataframe thead th {\n",
       "        text-align: right;\n",
       "    }\n",
       "</style>\n",
       "<table border=\"1\" class=\"dataframe\">\n",
       "  <thead>\n",
       "    <tr style=\"text-align: right;\">\n",
       "      <th></th>\n",
       "      <th>Unnamed: 0</th>\n",
       "      <th>Society</th>\n",
       "      <th>Price</th>\n",
       "      <th>Address</th>\n",
       "      <th>Details</th>\n",
       "    </tr>\n",
       "  </thead>\n",
       "  <tbody>\n",
       "    <tr>\n",
       "      <th>426</th>\n",
       "      <td>426</td>\n",
       "      <td>SMR Vinay Iconia</td>\n",
       "      <td>₹ 44 Lac</td>\n",
       "      <td>\\n\\n\\n\\t\\t\\t\\t            \\t\\t\\n\\t\\t\\t\\t      ...</td>\n",
       "      <td>\\n\\n\\ncarpet area\\n900 sqft\\n\\n\\n\\nstatus\\nRea...</td>\n",
       "    </tr>\n",
       "    <tr>\n",
       "      <th>427</th>\n",
       "      <td>427</td>\n",
       "      <td>Rajapushpa Regalia</td>\n",
       "      <td>₹ 90 Lac</td>\n",
       "      <td>\\n\\n\\n\\t\\t\\t\\t            \\t\\t\\n\\t\\t\\t\\t      ...</td>\n",
       "      <td>\\n\\n\\ncarpet area\\n1480 sqft\\n\\n\\n\\nstatus\\nRe...</td>\n",
       "    </tr>\n",
       "    <tr>\n",
       "      <th>428</th>\n",
       "      <td>428</td>\n",
       "      <td>Dukes Galaxy</td>\n",
       "      <td>₹ 1.20 Cr</td>\n",
       "      <td>\\n\\n\\n\\t\\t\\t\\t            \\t\\t\\n\\t\\t\\t\\t      ...</td>\n",
       "      <td>\\n\\n\\ncarpet area\\n1240 sqft\\n\\n\\n\\nstatus\\nRe...</td>\n",
       "    </tr>\n",
       "    <tr>\n",
       "      <th>429</th>\n",
       "      <td>429</td>\n",
       "      <td>SMR Vinay Iconia</td>\n",
       "      <td>₹ 45 Lac</td>\n",
       "      <td>\\n\\n\\n\\t\\t\\t\\t            \\t\\t\\n\\t\\t\\t\\t      ...</td>\n",
       "      <td>\\n\\n\\ncarpet area\\n980 sqft\\n\\n\\n\\nstatus\\nRea...</td>\n",
       "    </tr>\n",
       "    <tr>\n",
       "      <th>430</th>\n",
       "      <td>430</td>\n",
       "      <td>Dukes Galaxy</td>\n",
       "      <td>₹ 55 Lac</td>\n",
       "      <td>\\n\\n\\n\\t\\t\\t\\t            \\t\\t\\n\\t\\t\\t\\t      ...</td>\n",
       "      <td>\\n\\n\\ncarpet area\\n900 sqft\\n\\n\\n\\nstatus\\nRea...</td>\n",
       "    </tr>\n",
       "  </tbody>\n",
       "</table>\n",
       "</div>"
      ],
      "text/plain": [
       "     Unnamed: 0             Society      Price  \\\n",
       "426         426    SMR Vinay Iconia   ₹ 44 Lac   \n",
       "427         427  Rajapushpa Regalia   ₹ 90 Lac   \n",
       "428         428        Dukes Galaxy  ₹ 1.20 Cr   \n",
       "429         429    SMR Vinay Iconia   ₹ 45 Lac   \n",
       "430         430        Dukes Galaxy   ₹ 55 Lac   \n",
       "\n",
       "                                               Address  \\\n",
       "426  \\n\\n\\n\\t\\t\\t\\t            \\t\\t\\n\\t\\t\\t\\t      ...   \n",
       "427  \\n\\n\\n\\t\\t\\t\\t            \\t\\t\\n\\t\\t\\t\\t      ...   \n",
       "428  \\n\\n\\n\\t\\t\\t\\t            \\t\\t\\n\\t\\t\\t\\t      ...   \n",
       "429  \\n\\n\\n\\t\\t\\t\\t            \\t\\t\\n\\t\\t\\t\\t      ...   \n",
       "430  \\n\\n\\n\\t\\t\\t\\t            \\t\\t\\n\\t\\t\\t\\t      ...   \n",
       "\n",
       "                                               Details  \n",
       "426  \\n\\n\\ncarpet area\\n900 sqft\\n\\n\\n\\nstatus\\nRea...  \n",
       "427  \\n\\n\\ncarpet area\\n1480 sqft\\n\\n\\n\\nstatus\\nRe...  \n",
       "428  \\n\\n\\ncarpet area\\n1240 sqft\\n\\n\\n\\nstatus\\nRe...  \n",
       "429  \\n\\n\\ncarpet area\\n980 sqft\\n\\n\\n\\nstatus\\nRea...  \n",
       "430  \\n\\n\\ncarpet area\\n900 sqft\\n\\n\\n\\nstatus\\nRea...  "
      ]
     },
     "execution_count": 4,
     "metadata": {},
     "output_type": "execute_result"
    }
   ],
   "source": [
    "magic.tail()"
   ]
  },
  {
   "cell_type": "markdown",
   "metadata": {},
   "source": [
    "### Droping the 'Unnamed: 0' column created automatically  "
   ]
  },
  {
   "cell_type": "code",
   "execution_count": null,
   "metadata": {},
   "outputs": [],
   "source": [
    "magic.drop('Unnamed: 0',axis = 1, inplace = True)"
   ]
  },
  {
   "cell_type": "markdown",
   "metadata": {},
   "source": [
    "### Checking the Types of the daya "
   ]
  },
  {
   "cell_type": "code",
   "execution_count": 57,
   "metadata": {},
   "outputs": [
    {
     "data": {
      "text/plain": [
       "Society    object\n",
       "Price      object\n",
       "Address    object\n",
       "Details    object\n",
       "dtype: object"
      ]
     },
     "execution_count": 57,
     "metadata": {},
     "output_type": "execute_result"
    }
   ],
   "source": [
    "magic.dtypes"
   ]
  },
  {
   "cell_type": "markdown",
   "metadata": {},
   "source": [
    "### To display the  Null counts and Data types information of the data for each column"
   ]
  },
  {
   "cell_type": "code",
   "execution_count": 58,
   "metadata": {},
   "outputs": [
    {
     "name": "stdout",
     "output_type": "stream",
     "text": [
      "<class 'pandas.core.frame.DataFrame'>\n",
      "RangeIndex: 431 entries, 0 to 430\n",
      "Data columns (total 4 columns):\n",
      " #   Column   Non-Null Count  Dtype \n",
      "---  ------   --------------  ----- \n",
      " 0   Society  431 non-null    object\n",
      " 1   Price    431 non-null    object\n",
      " 2   Address  431 non-null    object\n",
      " 3   Details  431 non-null    object\n",
      "dtypes: object(4)\n",
      "memory usage: 13.6+ KB\n"
     ]
    }
   ],
   "source": [
    "magic.info()"
   ]
  },
  {
   "cell_type": "markdown",
   "metadata": {},
   "source": [
    "### The Address and Details Column has most of the Information. We need to get the required features by splitting the Address and Details columns"
   ]
  },
  {
   "cell_type": "markdown",
   "metadata": {
    "scrolled": true
   },
   "source": [
    "### Fetching Data From Details Column\n"
   ]
  },
  {
   "cell_type": "code",
   "execution_count": 59,
   "metadata": {},
   "outputs": [],
   "source": [
    "#Pulling data in splitted form in a variable named 'K'\n",
    "\n",
    "k = magic['Details'].str.split('\\n',expand = True)"
   ]
  },
  {
   "cell_type": "code",
   "execution_count": 60,
   "metadata": {},
   "outputs": [
    {
     "data": {
      "text/html": [
       "<div>\n",
       "<style scoped>\n",
       "    .dataframe tbody tr th:only-of-type {\n",
       "        vertical-align: middle;\n",
       "    }\n",
       "\n",
       "    .dataframe tbody tr th {\n",
       "        vertical-align: top;\n",
       "    }\n",
       "\n",
       "    .dataframe thead th {\n",
       "        text-align: right;\n",
       "    }\n",
       "</style>\n",
       "<table border=\"1\" class=\"dataframe\">\n",
       "  <thead>\n",
       "    <tr style=\"text-align: right;\">\n",
       "      <th></th>\n",
       "      <th>0</th>\n",
       "      <th>1</th>\n",
       "      <th>2</th>\n",
       "      <th>3</th>\n",
       "      <th>4</th>\n",
       "      <th>5</th>\n",
       "      <th>6</th>\n",
       "      <th>7</th>\n",
       "      <th>8</th>\n",
       "      <th>9</th>\n",
       "      <th>10</th>\n",
       "      <th>11</th>\n",
       "      <th>12</th>\n",
       "      <th>13</th>\n",
       "      <th>14</th>\n",
       "      <th>15</th>\n",
       "      <th>16</th>\n",
       "      <th>17</th>\n",
       "      <th>18</th>\n",
       "      <th>19</th>\n",
       "      <th>20</th>\n",
       "      <th>21</th>\n",
       "      <th>22</th>\n",
       "      <th>23</th>\n",
       "      <th>24</th>\n",
       "      <th>25</th>\n",
       "      <th>26</th>\n",
       "      <th>27</th>\n",
       "      <th>28</th>\n",
       "      <th>29</th>\n",
       "      <th>30</th>\n",
       "      <th>31</th>\n",
       "      <th>32</th>\n",
       "      <th>33</th>\n",
       "      <th>34</th>\n",
       "      <th>35</th>\n",
       "      <th>36</th>\n",
       "      <th>37</th>\n",
       "      <th>38</th>\n",
       "      <th>39</th>\n",
       "      <th>40</th>\n",
       "      <th>41</th>\n",
       "      <th>42</th>\n",
       "      <th>43</th>\n",
       "      <th>44</th>\n",
       "      <th>45</th>\n",
       "      <th>46</th>\n",
       "      <th>47</th>\n",
       "      <th>48</th>\n",
       "      <th>49</th>\n",
       "      <th>50</th>\n",
       "    </tr>\n",
       "  </thead>\n",
       "  <tbody>\n",
       "    <tr>\n",
       "      <th>0</th>\n",
       "      <td></td>\n",
       "      <td></td>\n",
       "      <td></td>\n",
       "      <td>carpet area</td>\n",
       "      <td>2020 sqft</td>\n",
       "      <td></td>\n",
       "      <td></td>\n",
       "      <td></td>\n",
       "      <td>status</td>\n",
       "      <td>Ready to Move</td>\n",
       "      <td></td>\n",
       "      <td></td>\n",
       "      <td></td>\n",
       "      <td>floor</td>\n",
       "      <td>2 out of 4 floors</td>\n",
       "      <td></td>\n",
       "      <td></td>\n",
       "      <td>transaction</td>\n",
       "      <td>New Property</td>\n",
       "      <td></td>\n",
       "      <td></td>\n",
       "      <td>furnishing</td>\n",
       "      <td>Unfurnished</td>\n",
       "      <td></td>\n",
       "      <td></td>\n",
       "      <td>facing</td>\n",
       "      <td>East</td>\n",
       "      <td></td>\n",
       "      <td></td>\n",
       "      <td>overlooking</td>\n",
       "      <td>Main Road</td>\n",
       "      <td></td>\n",
       "      <td></td>\n",
       "      <td>car parking</td>\n",
       "      <td>2 Covered</td>\n",
       "      <td></td>\n",
       "      <td></td>\n",
       "      <td>bathroom</td>\n",
       "      <td>3</td>\n",
       "      <td></td>\n",
       "      <td></td>\n",
       "      <td>balcony</td>\n",
       "      <td>2</td>\n",
       "      <td></td>\n",
       "      <td></td>\n",
       "      <td>ownership</td>\n",
       "      <td>Freehold</td>\n",
       "      <td></td>\n",
       "      <td></td>\n",
       "      <td>None</td>\n",
       "      <td>None</td>\n",
       "    </tr>\n",
       "    <tr>\n",
       "      <th>1</th>\n",
       "      <td></td>\n",
       "      <td></td>\n",
       "      <td></td>\n",
       "      <td>super area</td>\n",
       "      <td>1900 sqft</td>\n",
       "      <td></td>\n",
       "      <td></td>\n",
       "      <td></td>\n",
       "      <td>status</td>\n",
       "      <td></td>\n",
       "      <td>\\t\\t\\t\\t\\t\\t\\t\\tPossession by Dec '21</td>\n",
       "      <td>\\t\\t\\t\\t\\t\\t\\t</td>\n",
       "      <td></td>\n",
       "      <td></td>\n",
       "      <td></td>\n",
       "      <td>transaction</td>\n",
       "      <td>New Property</td>\n",
       "      <td></td>\n",
       "      <td></td>\n",
       "      <td>furnishing</td>\n",
       "      <td>Unfurnished</td>\n",
       "      <td></td>\n",
       "      <td></td>\n",
       "      <td>bathroom</td>\n",
       "      <td>3</td>\n",
       "      <td></td>\n",
       "      <td></td>\n",
       "      <td>None</td>\n",
       "      <td>None</td>\n",
       "      <td>None</td>\n",
       "      <td>None</td>\n",
       "      <td>None</td>\n",
       "      <td>None</td>\n",
       "      <td>None</td>\n",
       "      <td>None</td>\n",
       "      <td>None</td>\n",
       "      <td>None</td>\n",
       "      <td>None</td>\n",
       "      <td>None</td>\n",
       "      <td>None</td>\n",
       "      <td>None</td>\n",
       "      <td>None</td>\n",
       "      <td>None</td>\n",
       "      <td>None</td>\n",
       "      <td>None</td>\n",
       "      <td>None</td>\n",
       "      <td>None</td>\n",
       "      <td>None</td>\n",
       "      <td>None</td>\n",
       "      <td>None</td>\n",
       "      <td>None</td>\n",
       "    </tr>\n",
       "    <tr>\n",
       "      <th>2</th>\n",
       "      <td></td>\n",
       "      <td></td>\n",
       "      <td></td>\n",
       "      <td>super area</td>\n",
       "      <td>1495 sqft</td>\n",
       "      <td></td>\n",
       "      <td></td>\n",
       "      <td></td>\n",
       "      <td></td>\n",
       "      <td>transaction</td>\n",
       "      <td>New Property</td>\n",
       "      <td></td>\n",
       "      <td></td>\n",
       "      <td>furnishing</td>\n",
       "      <td>Unfurnished</td>\n",
       "      <td></td>\n",
       "      <td></td>\n",
       "      <td>car parking</td>\n",
       "      <td>1 Covered</td>\n",
       "      <td></td>\n",
       "      <td></td>\n",
       "      <td>bathroom</td>\n",
       "      <td>2</td>\n",
       "      <td></td>\n",
       "      <td></td>\n",
       "      <td>None</td>\n",
       "      <td>None</td>\n",
       "      <td>None</td>\n",
       "      <td>None</td>\n",
       "      <td>None</td>\n",
       "      <td>None</td>\n",
       "      <td>None</td>\n",
       "      <td>None</td>\n",
       "      <td>None</td>\n",
       "      <td>None</td>\n",
       "      <td>None</td>\n",
       "      <td>None</td>\n",
       "      <td>None</td>\n",
       "      <td>None</td>\n",
       "      <td>None</td>\n",
       "      <td>None</td>\n",
       "      <td>None</td>\n",
       "      <td>None</td>\n",
       "      <td>None</td>\n",
       "      <td>None</td>\n",
       "      <td>None</td>\n",
       "      <td>None</td>\n",
       "      <td>None</td>\n",
       "      <td>None</td>\n",
       "      <td>None</td>\n",
       "      <td>None</td>\n",
       "    </tr>\n",
       "    <tr>\n",
       "      <th>3</th>\n",
       "      <td></td>\n",
       "      <td></td>\n",
       "      <td></td>\n",
       "      <td>super area</td>\n",
       "      <td>1845 sqft</td>\n",
       "      <td></td>\n",
       "      <td></td>\n",
       "      <td></td>\n",
       "      <td>status</td>\n",
       "      <td>Ready to Move</td>\n",
       "      <td></td>\n",
       "      <td></td>\n",
       "      <td></td>\n",
       "      <td>floor</td>\n",
       "      <td>11 out of 12 floors</td>\n",
       "      <td></td>\n",
       "      <td></td>\n",
       "      <td>transaction</td>\n",
       "      <td>New Property</td>\n",
       "      <td></td>\n",
       "      <td></td>\n",
       "      <td>furnishing</td>\n",
       "      <td>Unfurnished</td>\n",
       "      <td></td>\n",
       "      <td></td>\n",
       "      <td>facing</td>\n",
       "      <td>West</td>\n",
       "      <td></td>\n",
       "      <td></td>\n",
       "      <td>overlooking</td>\n",
       "      <td>Garden/Park</td>\n",
       "      <td></td>\n",
       "      <td></td>\n",
       "      <td>car parking</td>\n",
       "      <td>2 Covered</td>\n",
       "      <td></td>\n",
       "      <td></td>\n",
       "      <td>bathroom</td>\n",
       "      <td>3</td>\n",
       "      <td></td>\n",
       "      <td></td>\n",
       "      <td>balcony</td>\n",
       "      <td>2</td>\n",
       "      <td></td>\n",
       "      <td></td>\n",
       "      <td>ownership</td>\n",
       "      <td>Freehold</td>\n",
       "      <td></td>\n",
       "      <td></td>\n",
       "      <td>None</td>\n",
       "      <td>None</td>\n",
       "    </tr>\n",
       "    <tr>\n",
       "      <th>4</th>\n",
       "      <td></td>\n",
       "      <td></td>\n",
       "      <td></td>\n",
       "      <td>carpet area</td>\n",
       "      <td>780 sqft</td>\n",
       "      <td></td>\n",
       "      <td></td>\n",
       "      <td></td>\n",
       "      <td>status</td>\n",
       "      <td>Ready to Move</td>\n",
       "      <td></td>\n",
       "      <td></td>\n",
       "      <td></td>\n",
       "      <td>floor</td>\n",
       "      <td>3 out of 5 floors</td>\n",
       "      <td></td>\n",
       "      <td></td>\n",
       "      <td>transaction</td>\n",
       "      <td>Resale</td>\n",
       "      <td></td>\n",
       "      <td></td>\n",
       "      <td>furnishing</td>\n",
       "      <td>Semi-Furnished</td>\n",
       "      <td></td>\n",
       "      <td></td>\n",
       "      <td>facing</td>\n",
       "      <td>North</td>\n",
       "      <td></td>\n",
       "      <td></td>\n",
       "      <td>car parking</td>\n",
       "      <td>1 Covered, 1 Open</td>\n",
       "      <td></td>\n",
       "      <td></td>\n",
       "      <td>bathroom</td>\n",
       "      <td>2</td>\n",
       "      <td></td>\n",
       "      <td></td>\n",
       "      <td>balcony</td>\n",
       "      <td>1</td>\n",
       "      <td></td>\n",
       "      <td></td>\n",
       "      <td>ownership</td>\n",
       "      <td>Freehold</td>\n",
       "      <td></td>\n",
       "      <td></td>\n",
       "      <td>None</td>\n",
       "      <td>None</td>\n",
       "      <td>None</td>\n",
       "      <td>None</td>\n",
       "      <td>None</td>\n",
       "      <td>None</td>\n",
       "    </tr>\n",
       "    <tr>\n",
       "      <th>...</th>\n",
       "      <td>...</td>\n",
       "      <td>...</td>\n",
       "      <td>...</td>\n",
       "      <td>...</td>\n",
       "      <td>...</td>\n",
       "      <td>...</td>\n",
       "      <td>...</td>\n",
       "      <td>...</td>\n",
       "      <td>...</td>\n",
       "      <td>...</td>\n",
       "      <td>...</td>\n",
       "      <td>...</td>\n",
       "      <td>...</td>\n",
       "      <td>...</td>\n",
       "      <td>...</td>\n",
       "      <td>...</td>\n",
       "      <td>...</td>\n",
       "      <td>...</td>\n",
       "      <td>...</td>\n",
       "      <td>...</td>\n",
       "      <td>...</td>\n",
       "      <td>...</td>\n",
       "      <td>...</td>\n",
       "      <td>...</td>\n",
       "      <td>...</td>\n",
       "      <td>...</td>\n",
       "      <td>...</td>\n",
       "      <td>...</td>\n",
       "      <td>...</td>\n",
       "      <td>...</td>\n",
       "      <td>...</td>\n",
       "      <td>...</td>\n",
       "      <td>...</td>\n",
       "      <td>...</td>\n",
       "      <td>...</td>\n",
       "      <td>...</td>\n",
       "      <td>...</td>\n",
       "      <td>...</td>\n",
       "      <td>...</td>\n",
       "      <td>...</td>\n",
       "      <td>...</td>\n",
       "      <td>...</td>\n",
       "      <td>...</td>\n",
       "      <td>...</td>\n",
       "      <td>...</td>\n",
       "      <td>...</td>\n",
       "      <td>...</td>\n",
       "      <td>...</td>\n",
       "      <td>...</td>\n",
       "      <td>...</td>\n",
       "      <td>...</td>\n",
       "    </tr>\n",
       "    <tr>\n",
       "      <th>426</th>\n",
       "      <td></td>\n",
       "      <td></td>\n",
       "      <td></td>\n",
       "      <td>carpet area</td>\n",
       "      <td>900 sqft</td>\n",
       "      <td></td>\n",
       "      <td></td>\n",
       "      <td></td>\n",
       "      <td>status</td>\n",
       "      <td>Ready to Move</td>\n",
       "      <td></td>\n",
       "      <td></td>\n",
       "      <td></td>\n",
       "      <td>floor</td>\n",
       "      <td>5 out of 5 floors</td>\n",
       "      <td></td>\n",
       "      <td></td>\n",
       "      <td>transaction</td>\n",
       "      <td>Resale</td>\n",
       "      <td></td>\n",
       "      <td></td>\n",
       "      <td>furnishing</td>\n",
       "      <td>Semi-Furnished</td>\n",
       "      <td></td>\n",
       "      <td></td>\n",
       "      <td>facing</td>\n",
       "      <td>West</td>\n",
       "      <td></td>\n",
       "      <td></td>\n",
       "      <td>car parking</td>\n",
       "      <td>1 Covered, 1 Open</td>\n",
       "      <td></td>\n",
       "      <td></td>\n",
       "      <td>bathroom</td>\n",
       "      <td>2</td>\n",
       "      <td></td>\n",
       "      <td></td>\n",
       "      <td>balcony</td>\n",
       "      <td>2</td>\n",
       "      <td></td>\n",
       "      <td></td>\n",
       "      <td>None</td>\n",
       "      <td>None</td>\n",
       "      <td>None</td>\n",
       "      <td>None</td>\n",
       "      <td>None</td>\n",
       "      <td>None</td>\n",
       "      <td>None</td>\n",
       "      <td>None</td>\n",
       "      <td>None</td>\n",
       "      <td>None</td>\n",
       "    </tr>\n",
       "    <tr>\n",
       "      <th>427</th>\n",
       "      <td></td>\n",
       "      <td></td>\n",
       "      <td></td>\n",
       "      <td>carpet area</td>\n",
       "      <td>1480 sqft</td>\n",
       "      <td></td>\n",
       "      <td></td>\n",
       "      <td></td>\n",
       "      <td>status</td>\n",
       "      <td>Ready to Move</td>\n",
       "      <td></td>\n",
       "      <td></td>\n",
       "      <td></td>\n",
       "      <td>floor</td>\n",
       "      <td>1 out of 5 floors</td>\n",
       "      <td></td>\n",
       "      <td></td>\n",
       "      <td>transaction</td>\n",
       "      <td>Resale</td>\n",
       "      <td></td>\n",
       "      <td></td>\n",
       "      <td>furnishing</td>\n",
       "      <td>Semi-Furnished</td>\n",
       "      <td></td>\n",
       "      <td></td>\n",
       "      <td>facing</td>\n",
       "      <td>East</td>\n",
       "      <td></td>\n",
       "      <td></td>\n",
       "      <td>overlooking</td>\n",
       "      <td>Garden/Park</td>\n",
       "      <td></td>\n",
       "      <td></td>\n",
       "      <td>car parking</td>\n",
       "      <td>1 Covered</td>\n",
       "      <td></td>\n",
       "      <td></td>\n",
       "      <td>bathroom</td>\n",
       "      <td>3</td>\n",
       "      <td></td>\n",
       "      <td></td>\n",
       "      <td>balcony</td>\n",
       "      <td>3</td>\n",
       "      <td></td>\n",
       "      <td></td>\n",
       "      <td>ownership</td>\n",
       "      <td>Freehold</td>\n",
       "      <td></td>\n",
       "      <td></td>\n",
       "      <td>None</td>\n",
       "      <td>None</td>\n",
       "    </tr>\n",
       "    <tr>\n",
       "      <th>428</th>\n",
       "      <td></td>\n",
       "      <td></td>\n",
       "      <td></td>\n",
       "      <td>carpet area</td>\n",
       "      <td>1240 sqft</td>\n",
       "      <td></td>\n",
       "      <td></td>\n",
       "      <td></td>\n",
       "      <td>status</td>\n",
       "      <td>Ready to Move</td>\n",
       "      <td></td>\n",
       "      <td></td>\n",
       "      <td></td>\n",
       "      <td>floor</td>\n",
       "      <td>9 out of 11 floors</td>\n",
       "      <td></td>\n",
       "      <td></td>\n",
       "      <td>transaction</td>\n",
       "      <td>Resale</td>\n",
       "      <td></td>\n",
       "      <td></td>\n",
       "      <td>furnishing</td>\n",
       "      <td>Semi-Furnished</td>\n",
       "      <td></td>\n",
       "      <td></td>\n",
       "      <td>facing</td>\n",
       "      <td>South</td>\n",
       "      <td></td>\n",
       "      <td></td>\n",
       "      <td>overlooking</td>\n",
       "      <td>Pool, Garden/Park</td>\n",
       "      <td></td>\n",
       "      <td></td>\n",
       "      <td>bathroom</td>\n",
       "      <td>2</td>\n",
       "      <td></td>\n",
       "      <td></td>\n",
       "      <td>balcony</td>\n",
       "      <td>1</td>\n",
       "      <td></td>\n",
       "      <td></td>\n",
       "      <td>ownership</td>\n",
       "      <td>Freehold</td>\n",
       "      <td></td>\n",
       "      <td></td>\n",
       "      <td>None</td>\n",
       "      <td>None</td>\n",
       "      <td>None</td>\n",
       "      <td>None</td>\n",
       "      <td>None</td>\n",
       "      <td>None</td>\n",
       "    </tr>\n",
       "    <tr>\n",
       "      <th>429</th>\n",
       "      <td></td>\n",
       "      <td></td>\n",
       "      <td></td>\n",
       "      <td>carpet area</td>\n",
       "      <td>980 sqft</td>\n",
       "      <td></td>\n",
       "      <td></td>\n",
       "      <td></td>\n",
       "      <td>status</td>\n",
       "      <td>Ready to Move</td>\n",
       "      <td></td>\n",
       "      <td></td>\n",
       "      <td></td>\n",
       "      <td>floor</td>\n",
       "      <td>1 out of 3 floors</td>\n",
       "      <td></td>\n",
       "      <td></td>\n",
       "      <td>transaction</td>\n",
       "      <td>Resale</td>\n",
       "      <td></td>\n",
       "      <td></td>\n",
       "      <td>furnishing</td>\n",
       "      <td>Unfurnished</td>\n",
       "      <td></td>\n",
       "      <td></td>\n",
       "      <td>facing</td>\n",
       "      <td>East</td>\n",
       "      <td></td>\n",
       "      <td></td>\n",
       "      <td>bathroom</td>\n",
       "      <td>2</td>\n",
       "      <td></td>\n",
       "      <td></td>\n",
       "      <td>balcony</td>\n",
       "      <td>1</td>\n",
       "      <td></td>\n",
       "      <td></td>\n",
       "      <td>ownership</td>\n",
       "      <td>Freehold</td>\n",
       "      <td></td>\n",
       "      <td></td>\n",
       "      <td>None</td>\n",
       "      <td>None</td>\n",
       "      <td>None</td>\n",
       "      <td>None</td>\n",
       "      <td>None</td>\n",
       "      <td>None</td>\n",
       "      <td>None</td>\n",
       "      <td>None</td>\n",
       "      <td>None</td>\n",
       "      <td>None</td>\n",
       "    </tr>\n",
       "    <tr>\n",
       "      <th>430</th>\n",
       "      <td></td>\n",
       "      <td></td>\n",
       "      <td></td>\n",
       "      <td>carpet area</td>\n",
       "      <td>900 sqft</td>\n",
       "      <td></td>\n",
       "      <td></td>\n",
       "      <td></td>\n",
       "      <td>status</td>\n",
       "      <td>Ready to Move</td>\n",
       "      <td></td>\n",
       "      <td></td>\n",
       "      <td></td>\n",
       "      <td>floor</td>\n",
       "      <td>5 out of 11 floors</td>\n",
       "      <td></td>\n",
       "      <td></td>\n",
       "      <td>transaction</td>\n",
       "      <td>Resale</td>\n",
       "      <td></td>\n",
       "      <td></td>\n",
       "      <td>furnishing</td>\n",
       "      <td>Unfurnished</td>\n",
       "      <td></td>\n",
       "      <td></td>\n",
       "      <td>overlooking</td>\n",
       "      <td>Main Road</td>\n",
       "      <td></td>\n",
       "      <td></td>\n",
       "      <td>car parking</td>\n",
       "      <td>1 Covered</td>\n",
       "      <td></td>\n",
       "      <td></td>\n",
       "      <td>bathroom</td>\n",
       "      <td>2</td>\n",
       "      <td></td>\n",
       "      <td></td>\n",
       "      <td>balcony</td>\n",
       "      <td>2</td>\n",
       "      <td></td>\n",
       "      <td></td>\n",
       "      <td>None</td>\n",
       "      <td>None</td>\n",
       "      <td>None</td>\n",
       "      <td>None</td>\n",
       "      <td>None</td>\n",
       "      <td>None</td>\n",
       "      <td>None</td>\n",
       "      <td>None</td>\n",
       "      <td>None</td>\n",
       "      <td>None</td>\n",
       "    </tr>\n",
       "  </tbody>\n",
       "</table>\n",
       "<p>431 rows × 51 columns</p>\n",
       "</div>"
      ],
      "text/plain": [
       "    0  1  2            3          4  5  6  7       8              9   \\\n",
       "0             carpet area  2020 sqft           status  Ready to Move   \n",
       "1              super area  1900 sqft           status                  \n",
       "2              super area  1495 sqft                     transaction   \n",
       "3              super area  1845 sqft           status  Ready to Move   \n",
       "4             carpet area   780 sqft           status  Ready to Move   \n",
       "..  .. .. ..          ...        ... .. .. ..     ...            ...   \n",
       "426           carpet area   900 sqft           status  Ready to Move   \n",
       "427           carpet area  1480 sqft           status  Ready to Move   \n",
       "428           carpet area  1240 sqft           status  Ready to Move   \n",
       "429           carpet area   980 sqft           status  Ready to Move   \n",
       "430           carpet area   900 sqft           status  Ready to Move   \n",
       "\n",
       "                                        10              11 12          13  \\\n",
       "0                                                                   floor   \n",
       "1    \\t\\t\\t\\t\\t\\t\\t\\tPossession by Dec '21  \\t\\t\\t\\t\\t\\t\\t                  \n",
       "2                             New Property                     furnishing   \n",
       "3                                                                   floor   \n",
       "4                                                                   floor   \n",
       "..                                     ...             ... ..         ...   \n",
       "426                                                                 floor   \n",
       "427                                                                 floor   \n",
       "428                                                                 floor   \n",
       "429                                                                 floor   \n",
       "430                                                                 floor   \n",
       "\n",
       "                      14           15            16           17  \\\n",
       "0      2 out of 4 floors                             transaction   \n",
       "1                         transaction  New Property                \n",
       "2            Unfurnished                             car parking   \n",
       "3    11 out of 12 floors                             transaction   \n",
       "4      3 out of 5 floors                             transaction   \n",
       "..                   ...          ...           ...          ...   \n",
       "426    5 out of 5 floors                             transaction   \n",
       "427    1 out of 5 floors                             transaction   \n",
       "428   9 out of 11 floors                             transaction   \n",
       "429    1 out of 3 floors                             transaction   \n",
       "430   5 out of 11 floors                             transaction   \n",
       "\n",
       "               18          19           20          21              22  \\\n",
       "0    New Property                           furnishing     Unfurnished   \n",
       "1                  furnishing  Unfurnished                               \n",
       "2       1 Covered                             bathroom               2   \n",
       "3    New Property                           furnishing     Unfurnished   \n",
       "4          Resale                           furnishing  Semi-Furnished   \n",
       "..            ...         ...          ...         ...             ...   \n",
       "426        Resale                           furnishing  Semi-Furnished   \n",
       "427        Resale                           furnishing  Semi-Furnished   \n",
       "428        Resale                           furnishing  Semi-Furnished   \n",
       "429        Resale                           furnishing     Unfurnished   \n",
       "430        Resale                           furnishing     Unfurnished   \n",
       "\n",
       "           23 24           25         26    27    28           29  \\\n",
       "0                      facing       East              overlooking   \n",
       "1    bathroom  3                          None  None         None   \n",
       "2                        None       None  None  None         None   \n",
       "3                      facing       West              overlooking   \n",
       "4                      facing      North              car parking   \n",
       "..        ... ..          ...        ...   ...   ...          ...   \n",
       "426                    facing       West              car parking   \n",
       "427                    facing       East              overlooking   \n",
       "428                    facing      South              overlooking   \n",
       "429                    facing       East                 bathroom   \n",
       "430               overlooking  Main Road              car parking   \n",
       "\n",
       "                    30    31    32           33         34    35    36  \\\n",
       "0            Main Road              car parking  2 Covered               \n",
       "1                 None  None  None         None       None  None  None   \n",
       "2                 None  None  None         None       None  None  None   \n",
       "3          Garden/Park              car parking  2 Covered               \n",
       "4    1 Covered, 1 Open                 bathroom          2               \n",
       "..                 ...   ...   ...          ...        ...   ...   ...   \n",
       "426  1 Covered, 1 Open                 bathroom          2               \n",
       "427        Garden/Park              car parking  1 Covered               \n",
       "428  Pool, Garden/Park                 bathroom          2               \n",
       "429                  2                  balcony          1               \n",
       "430          1 Covered                 bathroom          2               \n",
       "\n",
       "            37        38    39    40         41        42    43    44  \\\n",
       "0     bathroom         3                balcony         2               \n",
       "1         None      None  None  None       None      None  None  None   \n",
       "2         None      None  None  None       None      None  None  None   \n",
       "3     bathroom         3                balcony         2               \n",
       "4      balcony         1              ownership  Freehold               \n",
       "..         ...       ...   ...   ...        ...       ...   ...   ...   \n",
       "426    balcony         2                   None      None  None  None   \n",
       "427   bathroom         3                balcony         3               \n",
       "428    balcony         1              ownership  Freehold               \n",
       "429  ownership  Freehold                   None      None  None  None   \n",
       "430    balcony         2                   None      None  None  None   \n",
       "\n",
       "            45        46    47    48    49    50  \n",
       "0    ownership  Freehold              None  None  \n",
       "1         None      None  None  None  None  None  \n",
       "2         None      None  None  None  None  None  \n",
       "3    ownership  Freehold              None  None  \n",
       "4         None      None  None  None  None  None  \n",
       "..         ...       ...   ...   ...   ...   ...  \n",
       "426       None      None  None  None  None  None  \n",
       "427  ownership  Freehold              None  None  \n",
       "428       None      None  None  None  None  None  \n",
       "429       None      None  None  None  None  None  \n",
       "430       None      None  None  None  None  None  \n",
       "\n",
       "[431 rows x 51 columns]"
      ]
     },
     "execution_count": 60,
     "metadata": {},
     "output_type": "execute_result"
    }
   ],
   "source": [
    "#TO enhance the size to make the  output readable \n",
    "\n",
    "pd.set_option('display.max_columns',None)\n",
    "k"
   ]
  },
  {
   "cell_type": "code",
   "execution_count": 61,
   "metadata": {},
   "outputs": [],
   "source": [
    "#Making Clean Columns from Details Column\n",
    "\n",
    "k['Status'] = k[8]+k[9]+k[10]\n",
    "k['Direction'] = k[25]+\" \"+k[26]\n",
    "k['Direction'] = k.Direction.str.strip('facing')\n",
    "k['View'] = k[30]\n",
    "k['Area_Sqft'] = k[4] \n",
    "k['Area_type'] = k[3]\n",
    "k['Floor'] = k[14]\n",
    "\n"
   ]
  },
  {
   "cell_type": "code",
   "execution_count": 62,
   "metadata": {},
   "outputs": [],
   "source": [
    "#Cleaning Status column by splitting\n",
    "\n",
    "v = k.Status.str.split(expand=True)\n",
    "\n",
    "#TO remove the status word from clomun 0\n",
    "v['Possesion'] = v[0].str.strip('status')\n",
    "\n",
    "# replacing NA by Sace\n",
    "v.fillna(\"\", inplace=True)\n",
    "\n",
    "#To create the possetion column\n",
    "v['Possesion']=v['Possesion']+\" \"+v[1]+\" \"+v[2]+\" \"+v[3]+\" \"+v[4]\n",
    "\n",
    "#To add the final posession column to the k data frame\n",
    "k['Possesion'] = v['Possesion']\n"
   ]
  },
  {
   "cell_type": "markdown",
   "metadata": {},
   "source": [
    "**Final Columns From K variable used to clean Details Columns**\n",
    "\n",
    "k['Status']\n",
    "\n",
    "k['Direction']\n",
    "\n",
    "k['View']\n",
    "\n",
    "k['Floor']\n",
    "\n",
    "k['Area_Sqft']\n",
    "\n",
    "k['Possesion']\n",
    "\n",
    "k['Area_type']\n"
   ]
  },
  {
   "cell_type": "markdown",
   "metadata": {},
   "source": [
    "### Fetching data from Address Column of Magic Data frame"
   ]
  },
  {
   "cell_type": "code",
   "execution_count": 63,
   "metadata": {},
   "outputs": [],
   "source": [
    "#To save the splitted data in to c Dataframe variable\n",
    "c =  magic.Address.str.split(expand = True)"
   ]
  },
  {
   "cell_type": "code",
   "execution_count": 64,
   "metadata": {},
   "outputs": [
    {
     "data": {
      "text/html": [
       "<div>\n",
       "<style scoped>\n",
       "    .dataframe tbody tr th:only-of-type {\n",
       "        vertical-align: middle;\n",
       "    }\n",
       "\n",
       "    .dataframe tbody tr th {\n",
       "        vertical-align: top;\n",
       "    }\n",
       "\n",
       "    .dataframe thead th {\n",
       "        text-align: right;\n",
       "    }\n",
       "</style>\n",
       "<table border=\"1\" class=\"dataframe\">\n",
       "  <thead>\n",
       "    <tr style=\"text-align: right;\">\n",
       "      <th></th>\n",
       "      <th>0</th>\n",
       "      <th>1</th>\n",
       "      <th>2</th>\n",
       "      <th>3</th>\n",
       "      <th>4</th>\n",
       "      <th>5</th>\n",
       "      <th>6</th>\n",
       "      <th>7</th>\n",
       "      <th>8</th>\n",
       "      <th>9</th>\n",
       "      <th>10</th>\n",
       "      <th>11</th>\n",
       "      <th>12</th>\n",
       "      <th>13</th>\n",
       "    </tr>\n",
       "  </thead>\n",
       "  <tbody>\n",
       "    <tr>\n",
       "      <th>0</th>\n",
       "      <td>3</td>\n",
       "      <td>BHK</td>\n",
       "      <td>Flat</td>\n",
       "      <td>for</td>\n",
       "      <td>Sale</td>\n",
       "      <td>in</td>\n",
       "      <td>Banjara</td>\n",
       "      <td>Hills,</td>\n",
       "      <td>NH</td>\n",
       "      <td>9</td>\n",
       "      <td>None</td>\n",
       "      <td>None</td>\n",
       "      <td>None</td>\n",
       "      <td>None</td>\n",
       "    </tr>\n",
       "    <tr>\n",
       "      <th>1</th>\n",
       "      <td>3</td>\n",
       "      <td>BHK</td>\n",
       "      <td>Flat</td>\n",
       "      <td>for</td>\n",
       "      <td>Sale</td>\n",
       "      <td>in</td>\n",
       "      <td>Puppalaguda</td>\n",
       "      <td>None</td>\n",
       "      <td>None</td>\n",
       "      <td>None</td>\n",
       "      <td>None</td>\n",
       "      <td>None</td>\n",
       "      <td>None</td>\n",
       "      <td>None</td>\n",
       "    </tr>\n",
       "    <tr>\n",
       "      <th>2</th>\n",
       "      <td>2</td>\n",
       "      <td>BHK</td>\n",
       "      <td>Flat</td>\n",
       "      <td>for</td>\n",
       "      <td>Sale</td>\n",
       "      <td>in</td>\n",
       "      <td>Kondapur</td>\n",
       "      <td>None</td>\n",
       "      <td>None</td>\n",
       "      <td>None</td>\n",
       "      <td>None</td>\n",
       "      <td>None</td>\n",
       "      <td>None</td>\n",
       "      <td>None</td>\n",
       "    </tr>\n",
       "    <tr>\n",
       "      <th>3</th>\n",
       "      <td>3</td>\n",
       "      <td>BHK</td>\n",
       "      <td>Flat</td>\n",
       "      <td>for</td>\n",
       "      <td>Sale</td>\n",
       "      <td>in</td>\n",
       "      <td>Gopanapalli</td>\n",
       "      <td>None</td>\n",
       "      <td>None</td>\n",
       "      <td>None</td>\n",
       "      <td>None</td>\n",
       "      <td>None</td>\n",
       "      <td>None</td>\n",
       "      <td>None</td>\n",
       "    </tr>\n",
       "    <tr>\n",
       "      <th>4</th>\n",
       "      <td>2</td>\n",
       "      <td>BHK</td>\n",
       "      <td>Flat</td>\n",
       "      <td>for</td>\n",
       "      <td>Sale</td>\n",
       "      <td>in</td>\n",
       "      <td>Medipally</td>\n",
       "      <td>None</td>\n",
       "      <td>None</td>\n",
       "      <td>None</td>\n",
       "      <td>None</td>\n",
       "      <td>None</td>\n",
       "      <td>None</td>\n",
       "      <td>None</td>\n",
       "    </tr>\n",
       "  </tbody>\n",
       "</table>\n",
       "</div>"
      ],
      "text/plain": [
       "  0    1     2    3     4   5            6       7     8     9     10    11  \\\n",
       "0  3  BHK  Flat  for  Sale  in      Banjara  Hills,    NH     9  None  None   \n",
       "1  3  BHK  Flat  for  Sale  in  Puppalaguda    None  None  None  None  None   \n",
       "2  2  BHK  Flat  for  Sale  in     Kondapur    None  None  None  None  None   \n",
       "3  3  BHK  Flat  for  Sale  in  Gopanapalli    None  None  None  None  None   \n",
       "4  2  BHK  Flat  for  Sale  in    Medipally    None  None  None  None  None   \n",
       "\n",
       "     12    13  \n",
       "0  None  None  \n",
       "1  None  None  \n",
       "2  None  None  \n",
       "3  None  None  \n",
       "4  None  None  "
      ]
     },
     "execution_count": 64,
     "metadata": {},
     "output_type": "execute_result"
    }
   ],
   "source": [
    "c.head()\n"
   ]
  },
  {
   "cell_type": "markdown",
   "metadata": {},
   "source": [
    "### To get the Null value counts from Splitted Address Column"
   ]
  },
  {
   "cell_type": "code",
   "execution_count": 65,
   "metadata": {},
   "outputs": [
    {
     "data": {
      "text/plain": [
       "0       0\n",
       "1       0\n",
       "2       0\n",
       "3       0\n",
       "4       0\n",
       "5       0\n",
       "6      11\n",
       "7     167\n",
       "8     233\n",
       "9     310\n",
       "10    381\n",
       "11    411\n",
       "12    427\n",
       "13    430\n",
       "dtype: int64"
      ]
     },
     "execution_count": 65,
     "metadata": {},
     "output_type": "execute_result"
    }
   ],
   "source": [
    "#To get the Null Value Counts\n",
    "c.isnull().sum()"
   ]
  },
  {
   "cell_type": "markdown",
   "metadata": {},
   "source": [
    "### To fill NA values by Space so that the data can be concatenated"
   ]
  },
  {
   "cell_type": "code",
   "execution_count": 66,
   "metadata": {},
   "outputs": [
    {
     "data": {
      "text/html": [
       "<div>\n",
       "<style scoped>\n",
       "    .dataframe tbody tr th:only-of-type {\n",
       "        vertical-align: middle;\n",
       "    }\n",
       "\n",
       "    .dataframe tbody tr th {\n",
       "        vertical-align: top;\n",
       "    }\n",
       "\n",
       "    .dataframe thead th {\n",
       "        text-align: right;\n",
       "    }\n",
       "</style>\n",
       "<table border=\"1\" class=\"dataframe\">\n",
       "  <thead>\n",
       "    <tr style=\"text-align: right;\">\n",
       "      <th></th>\n",
       "      <th>0</th>\n",
       "      <th>1</th>\n",
       "      <th>2</th>\n",
       "      <th>3</th>\n",
       "      <th>4</th>\n",
       "      <th>5</th>\n",
       "      <th>6</th>\n",
       "      <th>7</th>\n",
       "      <th>8</th>\n",
       "      <th>9</th>\n",
       "      <th>10</th>\n",
       "      <th>11</th>\n",
       "      <th>12</th>\n",
       "      <th>13</th>\n",
       "    </tr>\n",
       "  </thead>\n",
       "  <tbody>\n",
       "    <tr>\n",
       "      <th>0</th>\n",
       "      <td>3</td>\n",
       "      <td>BHK</td>\n",
       "      <td>Flat</td>\n",
       "      <td>for</td>\n",
       "      <td>Sale</td>\n",
       "      <td>in</td>\n",
       "      <td>Banjara</td>\n",
       "      <td>Hills,</td>\n",
       "      <td>NH</td>\n",
       "      <td>9</td>\n",
       "      <td></td>\n",
       "      <td></td>\n",
       "      <td></td>\n",
       "      <td></td>\n",
       "    </tr>\n",
       "    <tr>\n",
       "      <th>1</th>\n",
       "      <td>3</td>\n",
       "      <td>BHK</td>\n",
       "      <td>Flat</td>\n",
       "      <td>for</td>\n",
       "      <td>Sale</td>\n",
       "      <td>in</td>\n",
       "      <td>Puppalaguda</td>\n",
       "      <td></td>\n",
       "      <td></td>\n",
       "      <td></td>\n",
       "      <td></td>\n",
       "      <td></td>\n",
       "      <td></td>\n",
       "      <td></td>\n",
       "    </tr>\n",
       "    <tr>\n",
       "      <th>2</th>\n",
       "      <td>2</td>\n",
       "      <td>BHK</td>\n",
       "      <td>Flat</td>\n",
       "      <td>for</td>\n",
       "      <td>Sale</td>\n",
       "      <td>in</td>\n",
       "      <td>Kondapur</td>\n",
       "      <td></td>\n",
       "      <td></td>\n",
       "      <td></td>\n",
       "      <td></td>\n",
       "      <td></td>\n",
       "      <td></td>\n",
       "      <td></td>\n",
       "    </tr>\n",
       "    <tr>\n",
       "      <th>3</th>\n",
       "      <td>3</td>\n",
       "      <td>BHK</td>\n",
       "      <td>Flat</td>\n",
       "      <td>for</td>\n",
       "      <td>Sale</td>\n",
       "      <td>in</td>\n",
       "      <td>Gopanapalli</td>\n",
       "      <td></td>\n",
       "      <td></td>\n",
       "      <td></td>\n",
       "      <td></td>\n",
       "      <td></td>\n",
       "      <td></td>\n",
       "      <td></td>\n",
       "    </tr>\n",
       "    <tr>\n",
       "      <th>4</th>\n",
       "      <td>2</td>\n",
       "      <td>BHK</td>\n",
       "      <td>Flat</td>\n",
       "      <td>for</td>\n",
       "      <td>Sale</td>\n",
       "      <td>in</td>\n",
       "      <td>Medipally</td>\n",
       "      <td></td>\n",
       "      <td></td>\n",
       "      <td></td>\n",
       "      <td></td>\n",
       "      <td></td>\n",
       "      <td></td>\n",
       "      <td></td>\n",
       "    </tr>\n",
       "    <tr>\n",
       "      <th>...</th>\n",
       "      <td>...</td>\n",
       "      <td>...</td>\n",
       "      <td>...</td>\n",
       "      <td>...</td>\n",
       "      <td>...</td>\n",
       "      <td>...</td>\n",
       "      <td>...</td>\n",
       "      <td>...</td>\n",
       "      <td>...</td>\n",
       "      <td>...</td>\n",
       "      <td>...</td>\n",
       "      <td>...</td>\n",
       "      <td>...</td>\n",
       "      <td>...</td>\n",
       "    </tr>\n",
       "    <tr>\n",
       "      <th>426</th>\n",
       "      <td>2</td>\n",
       "      <td>BHK</td>\n",
       "      <td>Flat</td>\n",
       "      <td>for</td>\n",
       "      <td>Sale</td>\n",
       "      <td>in</td>\n",
       "      <td>Uppal,</td>\n",
       "      <td>NH</td>\n",
       "      <td>2</td>\n",
       "      <td>2</td>\n",
       "      <td></td>\n",
       "      <td></td>\n",
       "      <td></td>\n",
       "      <td></td>\n",
       "    </tr>\n",
       "    <tr>\n",
       "      <th>427</th>\n",
       "      <td>3</td>\n",
       "      <td>BHK</td>\n",
       "      <td>Flat</td>\n",
       "      <td>for</td>\n",
       "      <td>Sale</td>\n",
       "      <td>in</td>\n",
       "      <td>DD</td>\n",
       "      <td>Colony,</td>\n",
       "      <td>Amberpet</td>\n",
       "      <td></td>\n",
       "      <td></td>\n",
       "      <td></td>\n",
       "      <td></td>\n",
       "      <td></td>\n",
       "    </tr>\n",
       "    <tr>\n",
       "      <th>428</th>\n",
       "      <td>2</td>\n",
       "      <td>BHK</td>\n",
       "      <td>Flat</td>\n",
       "      <td>for</td>\n",
       "      <td>Sale</td>\n",
       "      <td>in</td>\n",
       "      <td>Hitech</td>\n",
       "      <td>City</td>\n",
       "      <td></td>\n",
       "      <td></td>\n",
       "      <td></td>\n",
       "      <td></td>\n",
       "      <td></td>\n",
       "      <td></td>\n",
       "    </tr>\n",
       "    <tr>\n",
       "      <th>429</th>\n",
       "      <td>2</td>\n",
       "      <td>BHK</td>\n",
       "      <td>Flat</td>\n",
       "      <td>for</td>\n",
       "      <td>Sale</td>\n",
       "      <td>in</td>\n",
       "      <td>Miyapur,</td>\n",
       "      <td>NH</td>\n",
       "      <td>9</td>\n",
       "      <td></td>\n",
       "      <td></td>\n",
       "      <td></td>\n",
       "      <td></td>\n",
       "      <td></td>\n",
       "    </tr>\n",
       "    <tr>\n",
       "      <th>430</th>\n",
       "      <td>2</td>\n",
       "      <td>BHK</td>\n",
       "      <td>Flat</td>\n",
       "      <td>for</td>\n",
       "      <td>Sale</td>\n",
       "      <td>in</td>\n",
       "      <td>Attapur</td>\n",
       "      <td></td>\n",
       "      <td></td>\n",
       "      <td></td>\n",
       "      <td></td>\n",
       "      <td></td>\n",
       "      <td></td>\n",
       "      <td></td>\n",
       "    </tr>\n",
       "  </tbody>\n",
       "</table>\n",
       "<p>431 rows × 14 columns</p>\n",
       "</div>"
      ],
      "text/plain": [
       "    0    1     2    3     4   5            6        7         8  9  10 11 12  \\\n",
       "0    3  BHK  Flat  for  Sale  in      Banjara   Hills,        NH  9            \n",
       "1    3  BHK  Flat  for  Sale  in  Puppalaguda                                  \n",
       "2    2  BHK  Flat  for  Sale  in     Kondapur                                  \n",
       "3    3  BHK  Flat  for  Sale  in  Gopanapalli                                  \n",
       "4    2  BHK  Flat  for  Sale  in    Medipally                                  \n",
       "..  ..  ...   ...  ...   ...  ..          ...      ...       ... .. .. .. ..   \n",
       "426  2  BHK  Flat  for  Sale  in       Uppal,       NH         2  2            \n",
       "427  3  BHK  Flat  for  Sale  in           DD  Colony,  Amberpet               \n",
       "428  2  BHK  Flat  for  Sale  in       Hitech     City                         \n",
       "429  2  BHK  Flat  for  Sale  in     Miyapur,       NH         9               \n",
       "430  2  BHK  Flat  for  Sale  in      Attapur                                  \n",
       "\n",
       "    13  \n",
       "0       \n",
       "1       \n",
       "2       \n",
       "3       \n",
       "4       \n",
       "..  ..  \n",
       "426     \n",
       "427     \n",
       "428     \n",
       "429     \n",
       "430     \n",
       "\n",
       "[431 rows x 14 columns]"
      ]
     },
     "execution_count": 66,
     "metadata": {},
     "output_type": "execute_result"
    }
   ],
   "source": [
    "#To replace NA with \" \" so we dont face \n",
    "c.fillna(' ',inplace=True)\n",
    "c"
   ]
  },
  {
   "cell_type": "code",
   "execution_count": 67,
   "metadata": {},
   "outputs": [],
   "source": [
    "#creating New Clean Columns from Address\n",
    "\n",
    "c['Main_Area'] = c[6]+\" \"+c[7]\n",
    "c['Full_Address'] = c[6]+c[7]+c[8]+c[9]\n",
    "c['BHK'] = c[0]\n"
   ]
  },
  {
   "cell_type": "code",
   "execution_count": 68,
   "metadata": {},
   "outputs": [
    {
     "data": {
      "text/html": [
       "<div>\n",
       "<style scoped>\n",
       "    .dataframe tbody tr th:only-of-type {\n",
       "        vertical-align: middle;\n",
       "    }\n",
       "\n",
       "    .dataframe tbody tr th {\n",
       "        vertical-align: top;\n",
       "    }\n",
       "\n",
       "    .dataframe thead th {\n",
       "        text-align: right;\n",
       "    }\n",
       "</style>\n",
       "<table border=\"1\" class=\"dataframe\">\n",
       "  <thead>\n",
       "    <tr style=\"text-align: right;\">\n",
       "      <th></th>\n",
       "      <th>0</th>\n",
       "      <th>1</th>\n",
       "      <th>2</th>\n",
       "      <th>3</th>\n",
       "      <th>4</th>\n",
       "      <th>5</th>\n",
       "      <th>6</th>\n",
       "      <th>7</th>\n",
       "      <th>8</th>\n",
       "      <th>9</th>\n",
       "      <th>10</th>\n",
       "      <th>11</th>\n",
       "      <th>12</th>\n",
       "      <th>13</th>\n",
       "      <th>Main_Area</th>\n",
       "      <th>Full_Address</th>\n",
       "      <th>BHK</th>\n",
       "    </tr>\n",
       "  </thead>\n",
       "  <tbody>\n",
       "    <tr>\n",
       "      <th>0</th>\n",
       "      <td>3</td>\n",
       "      <td>BHK</td>\n",
       "      <td>Flat</td>\n",
       "      <td>for</td>\n",
       "      <td>Sale</td>\n",
       "      <td>in</td>\n",
       "      <td>Banjara</td>\n",
       "      <td>Hills,</td>\n",
       "      <td>NH</td>\n",
       "      <td>9</td>\n",
       "      <td></td>\n",
       "      <td></td>\n",
       "      <td></td>\n",
       "      <td></td>\n",
       "      <td>Banjara Hills,</td>\n",
       "      <td>BanjaraHills,NH9</td>\n",
       "      <td>3</td>\n",
       "    </tr>\n",
       "    <tr>\n",
       "      <th>1</th>\n",
       "      <td>3</td>\n",
       "      <td>BHK</td>\n",
       "      <td>Flat</td>\n",
       "      <td>for</td>\n",
       "      <td>Sale</td>\n",
       "      <td>in</td>\n",
       "      <td>Puppalaguda</td>\n",
       "      <td></td>\n",
       "      <td></td>\n",
       "      <td></td>\n",
       "      <td></td>\n",
       "      <td></td>\n",
       "      <td></td>\n",
       "      <td></td>\n",
       "      <td>Puppalaguda</td>\n",
       "      <td>Puppalaguda</td>\n",
       "      <td>3</td>\n",
       "    </tr>\n",
       "    <tr>\n",
       "      <th>2</th>\n",
       "      <td>2</td>\n",
       "      <td>BHK</td>\n",
       "      <td>Flat</td>\n",
       "      <td>for</td>\n",
       "      <td>Sale</td>\n",
       "      <td>in</td>\n",
       "      <td>Kondapur</td>\n",
       "      <td></td>\n",
       "      <td></td>\n",
       "      <td></td>\n",
       "      <td></td>\n",
       "      <td></td>\n",
       "      <td></td>\n",
       "      <td></td>\n",
       "      <td>Kondapur</td>\n",
       "      <td>Kondapur</td>\n",
       "      <td>2</td>\n",
       "    </tr>\n",
       "    <tr>\n",
       "      <th>3</th>\n",
       "      <td>3</td>\n",
       "      <td>BHK</td>\n",
       "      <td>Flat</td>\n",
       "      <td>for</td>\n",
       "      <td>Sale</td>\n",
       "      <td>in</td>\n",
       "      <td>Gopanapalli</td>\n",
       "      <td></td>\n",
       "      <td></td>\n",
       "      <td></td>\n",
       "      <td></td>\n",
       "      <td></td>\n",
       "      <td></td>\n",
       "      <td></td>\n",
       "      <td>Gopanapalli</td>\n",
       "      <td>Gopanapalli</td>\n",
       "      <td>3</td>\n",
       "    </tr>\n",
       "    <tr>\n",
       "      <th>4</th>\n",
       "      <td>2</td>\n",
       "      <td>BHK</td>\n",
       "      <td>Flat</td>\n",
       "      <td>for</td>\n",
       "      <td>Sale</td>\n",
       "      <td>in</td>\n",
       "      <td>Medipally</td>\n",
       "      <td></td>\n",
       "      <td></td>\n",
       "      <td></td>\n",
       "      <td></td>\n",
       "      <td></td>\n",
       "      <td></td>\n",
       "      <td></td>\n",
       "      <td>Medipally</td>\n",
       "      <td>Medipally</td>\n",
       "      <td>2</td>\n",
       "    </tr>\n",
       "    <tr>\n",
       "      <th>...</th>\n",
       "      <td>...</td>\n",
       "      <td>...</td>\n",
       "      <td>...</td>\n",
       "      <td>...</td>\n",
       "      <td>...</td>\n",
       "      <td>...</td>\n",
       "      <td>...</td>\n",
       "      <td>...</td>\n",
       "      <td>...</td>\n",
       "      <td>...</td>\n",
       "      <td>...</td>\n",
       "      <td>...</td>\n",
       "      <td>...</td>\n",
       "      <td>...</td>\n",
       "      <td>...</td>\n",
       "      <td>...</td>\n",
       "      <td>...</td>\n",
       "    </tr>\n",
       "    <tr>\n",
       "      <th>426</th>\n",
       "      <td>2</td>\n",
       "      <td>BHK</td>\n",
       "      <td>Flat</td>\n",
       "      <td>for</td>\n",
       "      <td>Sale</td>\n",
       "      <td>in</td>\n",
       "      <td>Uppal,</td>\n",
       "      <td>NH</td>\n",
       "      <td>2</td>\n",
       "      <td>2</td>\n",
       "      <td></td>\n",
       "      <td></td>\n",
       "      <td></td>\n",
       "      <td></td>\n",
       "      <td>Uppal, NH</td>\n",
       "      <td>Uppal,NH22</td>\n",
       "      <td>2</td>\n",
       "    </tr>\n",
       "    <tr>\n",
       "      <th>427</th>\n",
       "      <td>3</td>\n",
       "      <td>BHK</td>\n",
       "      <td>Flat</td>\n",
       "      <td>for</td>\n",
       "      <td>Sale</td>\n",
       "      <td>in</td>\n",
       "      <td>DD</td>\n",
       "      <td>Colony,</td>\n",
       "      <td>Amberpet</td>\n",
       "      <td></td>\n",
       "      <td></td>\n",
       "      <td></td>\n",
       "      <td></td>\n",
       "      <td></td>\n",
       "      <td>DD Colony,</td>\n",
       "      <td>DDColony,Amberpet</td>\n",
       "      <td>3</td>\n",
       "    </tr>\n",
       "    <tr>\n",
       "      <th>428</th>\n",
       "      <td>2</td>\n",
       "      <td>BHK</td>\n",
       "      <td>Flat</td>\n",
       "      <td>for</td>\n",
       "      <td>Sale</td>\n",
       "      <td>in</td>\n",
       "      <td>Hitech</td>\n",
       "      <td>City</td>\n",
       "      <td></td>\n",
       "      <td></td>\n",
       "      <td></td>\n",
       "      <td></td>\n",
       "      <td></td>\n",
       "      <td></td>\n",
       "      <td>Hitech City</td>\n",
       "      <td>HitechCity</td>\n",
       "      <td>2</td>\n",
       "    </tr>\n",
       "    <tr>\n",
       "      <th>429</th>\n",
       "      <td>2</td>\n",
       "      <td>BHK</td>\n",
       "      <td>Flat</td>\n",
       "      <td>for</td>\n",
       "      <td>Sale</td>\n",
       "      <td>in</td>\n",
       "      <td>Miyapur,</td>\n",
       "      <td>NH</td>\n",
       "      <td>9</td>\n",
       "      <td></td>\n",
       "      <td></td>\n",
       "      <td></td>\n",
       "      <td></td>\n",
       "      <td></td>\n",
       "      <td>Miyapur, NH</td>\n",
       "      <td>Miyapur,NH9</td>\n",
       "      <td>2</td>\n",
       "    </tr>\n",
       "    <tr>\n",
       "      <th>430</th>\n",
       "      <td>2</td>\n",
       "      <td>BHK</td>\n",
       "      <td>Flat</td>\n",
       "      <td>for</td>\n",
       "      <td>Sale</td>\n",
       "      <td>in</td>\n",
       "      <td>Attapur</td>\n",
       "      <td></td>\n",
       "      <td></td>\n",
       "      <td></td>\n",
       "      <td></td>\n",
       "      <td></td>\n",
       "      <td></td>\n",
       "      <td></td>\n",
       "      <td>Attapur</td>\n",
       "      <td>Attapur</td>\n",
       "      <td>2</td>\n",
       "    </tr>\n",
       "  </tbody>\n",
       "</table>\n",
       "<p>431 rows × 17 columns</p>\n",
       "</div>"
      ],
      "text/plain": [
       "     0    1     2    3     4   5            6        7         8  9 10 11 12  \\\n",
       "0    3  BHK  Flat  for  Sale  in      Banjara   Hills,        NH  9            \n",
       "1    3  BHK  Flat  for  Sale  in  Puppalaguda                                  \n",
       "2    2  BHK  Flat  for  Sale  in     Kondapur                                  \n",
       "3    3  BHK  Flat  for  Sale  in  Gopanapalli                                  \n",
       "4    2  BHK  Flat  for  Sale  in    Medipally                                  \n",
       "..  ..  ...   ...  ...   ...  ..          ...      ...       ... .. .. .. ..   \n",
       "426  2  BHK  Flat  for  Sale  in       Uppal,       NH         2  2            \n",
       "427  3  BHK  Flat  for  Sale  in           DD  Colony,  Amberpet               \n",
       "428  2  BHK  Flat  for  Sale  in       Hitech     City                         \n",
       "429  2  BHK  Flat  for  Sale  in     Miyapur,       NH         9               \n",
       "430  2  BHK  Flat  for  Sale  in      Attapur                                  \n",
       "\n",
       "    13       Main_Area        Full_Address BHK  \n",
       "0       Banjara Hills,    BanjaraHills,NH9   3  \n",
       "1        Puppalaguda        Puppalaguda      3  \n",
       "2           Kondapur           Kondapur      2  \n",
       "3        Gopanapalli        Gopanapalli      3  \n",
       "4          Medipally          Medipally      2  \n",
       "..  ..             ...                 ...  ..  \n",
       "426          Uppal, NH          Uppal,NH22   2  \n",
       "427         DD Colony,  DDColony,Amberpet    3  \n",
       "428        Hitech City        HitechCity     2  \n",
       "429        Miyapur, NH        Miyapur,NH9    2  \n",
       "430          Attapur            Attapur      2  \n",
       "\n",
       "[431 rows x 17 columns]"
      ]
     },
     "execution_count": 68,
     "metadata": {},
     "output_type": "execute_result"
    }
   ],
   "source": [
    "pd.set_option('display.width', None)\n",
    "c"
   ]
  },
  {
   "cell_type": "markdown",
   "metadata": {},
   "source": [
    "**Final Columns from C Variable**\n",
    "\n",
    "c['Main_Area']\n",
    "\n",
    "c['Full_Address']\n",
    "\n",
    "c['BHK'] = c[0]"
   ]
  },
  {
   "cell_type": "markdown",
   "metadata": {},
   "source": [
    "### Final Columns Created from Both K(Details Columns) and C (Address Column)"
   ]
  },
  {
   "cell_type": "markdown",
   "metadata": {},
   "source": [
    "**Final Columns From K variable used to clean Details Columns**\n",
    "\n",
    "k['Status']\n",
    "\n",
    "k['Area_type']\n",
    "\n",
    "k['Direction']\n",
    "\n",
    "k['View']\n",
    "\n",
    "k['Floor']\n",
    "\n",
    "k['Area_Sqft']\n",
    "\n",
    "k['Possesion']\n",
    "\n",
    "**Final Columns from C Variable**\n",
    "\n",
    "c['Main_Area']\n",
    "\n",
    "c['Full_Address']\n",
    "\n",
    "c['BHK'] = c[0]"
   ]
  },
  {
   "cell_type": "markdown",
   "metadata": {},
   "source": [
    "### Adding the columns in Magic data frame and naming columns"
   ]
  },
  {
   "cell_type": "code",
   "execution_count": 69,
   "metadata": {},
   "outputs": [],
   "source": [
    "magic['Status'] = k['Status']\n",
    "magic['BHK'] = c['BHK']\n",
    "magic['Area_type']=k['Area_type']\n",
    "magic['Area_sqft'] = k['Area_Sqft']\n",
    "magic['Direction'] = k['Direction']\n",
    "magic['Floor'] = k['Floor']\n",
    "magic['View'] = k['View']  \n",
    "magic['Possesion'] = k['Possesion']  \n",
    "magic['Main_Area'] = c['Main_Area']\n",
    "magic['Full_Address'] = c['Full_Address']"
   ]
  },
  {
   "cell_type": "code",
   "execution_count": 70,
   "metadata": {},
   "outputs": [
    {
     "name": "stdout",
     "output_type": "stream",
     "text": [
      "<class 'pandas.core.frame.DataFrame'>\n",
      "RangeIndex: 431 entries, 0 to 430\n",
      "Data columns (total 14 columns):\n",
      " #   Column        Non-Null Count  Dtype \n",
      "---  ------        --------------  ----- \n",
      " 0   Society       431 non-null    object\n",
      " 1   Price         431 non-null    object\n",
      " 2   Address       431 non-null    object\n",
      " 3   Details       431 non-null    object\n",
      " 4   Status        431 non-null    object\n",
      " 5   BHK           431 non-null    object\n",
      " 6   Area_type     431 non-null    object\n",
      " 7   Area_sqft     431 non-null    object\n",
      " 8   Direction     429 non-null    object\n",
      " 9   Floor         431 non-null    object\n",
      " 10  View          424 non-null    object\n",
      " 11  Possesion     431 non-null    object\n",
      " 12  Main_Area     431 non-null    object\n",
      " 13  Full_Address  431 non-null    object\n",
      "dtypes: object(14)\n",
      "memory usage: 47.3+ KB\n"
     ]
    }
   ],
   "source": [
    "magic.info()\n"
   ]
  },
  {
   "cell_type": "markdown",
   "metadata": {},
   "source": [
    "### Converting The Price column into integer by removing the string values "
   ]
  },
  {
   "cell_type": "code",
   "execution_count": 71,
   "metadata": {},
   "outputs": [],
   "source": [
    "#Converting Price column into FLoat\n",
    "\n",
    "Lac= []\n",
    "\n",
    "for i in magic['Price']:\n",
    "    \n",
    "    if 'Lac' in i:\n",
    "        Lac.append((math.ceil(float(i.split(\" \")[1]))/100))\n",
    "    elif 'Cr' in i:\n",
    "        Lac.append((float(i.split(\" \")[1])))\n",
    "        \n",
    "\n",
    "magic['Price']=pd.DataFrame(Lac)\n"
   ]
  },
  {
   "cell_type": "markdown",
   "metadata": {},
   "source": [
    "### Dropping Irrelavant Columns\n"
   ]
  },
  {
   "cell_type": "code",
   "execution_count": null,
   "metadata": {},
   "outputs": [],
   "source": [
    "magic.drop(['Address','Details'], axis=1, inplace = True)\n",
    "magic.drop(['Status'], axis=1, inplace = True)\n",
    "magic.drop('Price_updated', axis = 1, inplace=True)"
   ]
  },
  {
   "cell_type": "markdown",
   "metadata": {},
   "source": [
    "### magic data converted into a proper Data frame for analysis"
   ]
  },
  {
   "cell_type": "code",
   "execution_count": 73,
   "metadata": {},
   "outputs": [
    {
     "data": {
      "text/html": [
       "<div>\n",
       "<style scoped>\n",
       "    .dataframe tbody tr th:only-of-type {\n",
       "        vertical-align: middle;\n",
       "    }\n",
       "\n",
       "    .dataframe tbody tr th {\n",
       "        vertical-align: top;\n",
       "    }\n",
       "\n",
       "    .dataframe thead th {\n",
       "        text-align: right;\n",
       "    }\n",
       "</style>\n",
       "<table border=\"1\" class=\"dataframe\">\n",
       "  <thead>\n",
       "    <tr style=\"text-align: right;\">\n",
       "      <th></th>\n",
       "      <th>Society</th>\n",
       "      <th>Price</th>\n",
       "      <th>BHK</th>\n",
       "      <th>Area_type</th>\n",
       "      <th>Area_sqft</th>\n",
       "      <th>Direction</th>\n",
       "      <th>Floor</th>\n",
       "      <th>View</th>\n",
       "      <th>Possesion</th>\n",
       "      <th>Main_Area</th>\n",
       "      <th>Full_Address</th>\n",
       "    </tr>\n",
       "  </thead>\n",
       "  <tbody>\n",
       "    <tr>\n",
       "      <th>0</th>\n",
       "      <td>Dukes Galaxy</td>\n",
       "      <td>2.48</td>\n",
       "      <td>3</td>\n",
       "      <td>carpet area</td>\n",
       "      <td>2020 sqft</td>\n",
       "      <td>East</td>\n",
       "      <td>2 out of 4 floors</td>\n",
       "      <td>Main Road</td>\n",
       "      <td>Ready to Move</td>\n",
       "      <td>Banjara Hills,</td>\n",
       "      <td>BanjaraHills,NH9</td>\n",
       "    </tr>\n",
       "    <tr>\n",
       "      <th>1</th>\n",
       "      <td>Sri Hemadurga Sivahills</td>\n",
       "      <td>1.14</td>\n",
       "      <td>3</td>\n",
       "      <td>super area</td>\n",
       "      <td>1900 sqft</td>\n",
       "      <td></td>\n",
       "      <td></td>\n",
       "      <td>None</td>\n",
       "      <td>Possession by Dec '21</td>\n",
       "      <td>Puppalaguda</td>\n",
       "      <td>Puppalaguda</td>\n",
       "    </tr>\n",
       "    <tr>\n",
       "      <th>2</th>\n",
       "      <td>SMR Vinay Iconia</td>\n",
       "      <td>1.21</td>\n",
       "      <td>2</td>\n",
       "      <td>super area</td>\n",
       "      <td>1495 sqft</td>\n",
       "      <td>NaN</td>\n",
       "      <td>Unfurnished</td>\n",
       "      <td>None</td>\n",
       "      <td>ransactionNew Property</td>\n",
       "      <td>Kondapur</td>\n",
       "      <td>Kondapur</td>\n",
       "    </tr>\n",
       "    <tr>\n",
       "      <th>3</th>\n",
       "      <td>Honer Vivantis</td>\n",
       "      <td>1.30</td>\n",
       "      <td>3</td>\n",
       "      <td>super area</td>\n",
       "      <td>1845 sqft</td>\n",
       "      <td>West</td>\n",
       "      <td>11 out of 12 floors</td>\n",
       "      <td>Garden/Park</td>\n",
       "      <td>Ready to Move</td>\n",
       "      <td>Gopanapalli</td>\n",
       "      <td>Gopanapalli</td>\n",
       "    </tr>\n",
       "    <tr>\n",
       "      <th>4</th>\n",
       "      <td>PBEL City</td>\n",
       "      <td>0.42</td>\n",
       "      <td>2</td>\n",
       "      <td>carpet area</td>\n",
       "      <td>780 sqft</td>\n",
       "      <td>North</td>\n",
       "      <td>3 out of 5 floors</td>\n",
       "      <td>1 Covered, 1 Open</td>\n",
       "      <td>Ready to Move</td>\n",
       "      <td>Medipally</td>\n",
       "      <td>Medipally</td>\n",
       "    </tr>\n",
       "    <tr>\n",
       "      <th>...</th>\n",
       "      <td>...</td>\n",
       "      <td>...</td>\n",
       "      <td>...</td>\n",
       "      <td>...</td>\n",
       "      <td>...</td>\n",
       "      <td>...</td>\n",
       "      <td>...</td>\n",
       "      <td>...</td>\n",
       "      <td>...</td>\n",
       "      <td>...</td>\n",
       "      <td>...</td>\n",
       "    </tr>\n",
       "    <tr>\n",
       "      <th>426</th>\n",
       "      <td>SMR Vinay Iconia</td>\n",
       "      <td>0.44</td>\n",
       "      <td>2</td>\n",
       "      <td>carpet area</td>\n",
       "      <td>900 sqft</td>\n",
       "      <td>West</td>\n",
       "      <td>5 out of 5 floors</td>\n",
       "      <td>1 Covered, 1 Open</td>\n",
       "      <td>Ready to Move</td>\n",
       "      <td>Uppal, NH</td>\n",
       "      <td>Uppal,NH22</td>\n",
       "    </tr>\n",
       "    <tr>\n",
       "      <th>427</th>\n",
       "      <td>Rajapushpa Regalia</td>\n",
       "      <td>0.90</td>\n",
       "      <td>3</td>\n",
       "      <td>carpet area</td>\n",
       "      <td>1480 sqft</td>\n",
       "      <td>East</td>\n",
       "      <td>1 out of 5 floors</td>\n",
       "      <td>Garden/Park</td>\n",
       "      <td>Ready to Move</td>\n",
       "      <td>DD Colony,</td>\n",
       "      <td>DDColony,Amberpet</td>\n",
       "    </tr>\n",
       "    <tr>\n",
       "      <th>428</th>\n",
       "      <td>Dukes Galaxy</td>\n",
       "      <td>1.20</td>\n",
       "      <td>2</td>\n",
       "      <td>carpet area</td>\n",
       "      <td>1240 sqft</td>\n",
       "      <td>South</td>\n",
       "      <td>9 out of 11 floors</td>\n",
       "      <td>Pool, Garden/Park</td>\n",
       "      <td>Ready to Move</td>\n",
       "      <td>Hitech City</td>\n",
       "      <td>HitechCity</td>\n",
       "    </tr>\n",
       "    <tr>\n",
       "      <th>429</th>\n",
       "      <td>SMR Vinay Iconia</td>\n",
       "      <td>0.45</td>\n",
       "      <td>2</td>\n",
       "      <td>carpet area</td>\n",
       "      <td>980 sqft</td>\n",
       "      <td>East</td>\n",
       "      <td>1 out of 3 floors</td>\n",
       "      <td>2</td>\n",
       "      <td>Ready to Move</td>\n",
       "      <td>Miyapur, NH</td>\n",
       "      <td>Miyapur,NH9</td>\n",
       "    </tr>\n",
       "    <tr>\n",
       "      <th>430</th>\n",
       "      <td>Dukes Galaxy</td>\n",
       "      <td>0.55</td>\n",
       "      <td>2</td>\n",
       "      <td>carpet area</td>\n",
       "      <td>900 sqft</td>\n",
       "      <td>overlooking Main Road</td>\n",
       "      <td>5 out of 11 floors</td>\n",
       "      <td>1 Covered</td>\n",
       "      <td>Ready to Move</td>\n",
       "      <td>Attapur</td>\n",
       "      <td>Attapur</td>\n",
       "    </tr>\n",
       "  </tbody>\n",
       "</table>\n",
       "<p>431 rows × 11 columns</p>\n",
       "</div>"
      ],
      "text/plain": [
       "                     Society  Price BHK    Area_type  Area_sqft  \\\n",
       "0               Dukes Galaxy   2.48   3  carpet area  2020 sqft   \n",
       "1    Sri Hemadurga Sivahills   1.14   3   super area  1900 sqft   \n",
       "2           SMR Vinay Iconia   1.21   2   super area  1495 sqft   \n",
       "3             Honer Vivantis   1.30   3   super area  1845 sqft   \n",
       "4                  PBEL City   0.42   2  carpet area   780 sqft   \n",
       "..                       ...    ...  ..          ...        ...   \n",
       "426         SMR Vinay Iconia   0.44   2  carpet area   900 sqft   \n",
       "427       Rajapushpa Regalia   0.90   3  carpet area  1480 sqft   \n",
       "428             Dukes Galaxy   1.20   2  carpet area  1240 sqft   \n",
       "429         SMR Vinay Iconia   0.45   2  carpet area   980 sqft   \n",
       "430             Dukes Galaxy   0.55   2  carpet area   900 sqft   \n",
       "\n",
       "                 Direction                Floor               View  \\\n",
       "0                     East    2 out of 4 floors          Main Road   \n",
       "1                                                             None   \n",
       "2                      NaN          Unfurnished               None   \n",
       "3                     West  11 out of 12 floors        Garden/Park   \n",
       "4                    North    3 out of 5 floors  1 Covered, 1 Open   \n",
       "..                     ...                  ...                ...   \n",
       "426                   West    5 out of 5 floors  1 Covered, 1 Open   \n",
       "427                   East    1 out of 5 floors        Garden/Park   \n",
       "428                  South   9 out of 11 floors  Pool, Garden/Park   \n",
       "429                   East    1 out of 3 floors                  2   \n",
       "430  overlooking Main Road   5 out of 11 floors          1 Covered   \n",
       "\n",
       "                     Possesion       Main_Area        Full_Address  \n",
       "0              Ready to Move    Banjara Hills,    BanjaraHills,NH9  \n",
       "1        Possession by Dec '21   Puppalaguda        Puppalaguda     \n",
       "2    ransactionNew Property         Kondapur           Kondapur     \n",
       "3              Ready to Move     Gopanapalli        Gopanapalli     \n",
       "4              Ready to Move       Medipally          Medipally     \n",
       "..                         ...             ...                 ...  \n",
       "426            Ready to Move         Uppal, NH          Uppal,NH22  \n",
       "427            Ready to Move        DD Colony,  DDColony,Amberpet   \n",
       "428            Ready to Move       Hitech City        HitechCity    \n",
       "429            Ready to Move       Miyapur, NH        Miyapur,NH9   \n",
       "430            Ready to Move         Attapur            Attapur     \n",
       "\n",
       "[431 rows x 11 columns]"
      ]
     },
     "execution_count": 73,
     "metadata": {},
     "output_type": "execute_result"
    }
   ],
   "source": [
    "magic"
   ]
  },
  {
   "cell_type": "code",
   "execution_count": 75,
   "metadata": {},
   "outputs": [
    {
     "data": {
      "text/plain": [
       "Society          object\n",
       "Price           float64\n",
       "BHK              object\n",
       "Area_type        object\n",
       "Area_sqft        object\n",
       "Direction        object\n",
       "Floor            object\n",
       "View             object\n",
       "Possesion        object\n",
       "Main_Area        object\n",
       "Full_Address     object\n",
       "dtype: object"
      ]
     },
     "execution_count": 75,
     "metadata": {},
     "output_type": "execute_result"
    }
   ],
   "source": [
    "magic.dtypes"
   ]
  },
  {
   "cell_type": "markdown",
   "metadata": {},
   "source": [
    "**We need to change the data types of the some columns**"
   ]
  },
  {
   "cell_type": "markdown",
   "metadata": {},
   "source": [
    "### To Check the Null values of the columns"
   ]
  },
  {
   "cell_type": "code",
   "execution_count": 21,
   "metadata": {},
   "outputs": [
    {
     "data": {
      "text/plain": [
       "Society         0\n",
       "Price           0\n",
       "BHK             0\n",
       "Area_type       0\n",
       "Area_sqft       0\n",
       "Direction       2\n",
       "Floor           0\n",
       "View            7\n",
       "Possesion       0\n",
       "Main_Area       0\n",
       "Full_Address    0\n",
       "dtype: int64"
      ]
     },
     "execution_count": 21,
     "metadata": {},
     "output_type": "execute_result"
    }
   ],
   "source": [
    "magic.isnull().sum()"
   ]
  },
  {
   "cell_type": "markdown",
   "metadata": {},
   "source": [
    "**Need to Undapte the Null values of Direction and View Column**"
   ]
  },
  {
   "cell_type": "code",
   "execution_count": null,
   "metadata": {},
   "outputs": [],
   "source": []
  },
  {
   "cell_type": "markdown",
   "metadata": {},
   "source": [
    "### Removing the Sqft from the Area_sqft column values and converting the data type into integer"
   ]
  },
  {
   "cell_type": "code",
   "execution_count": 78,
   "metadata": {},
   "outputs": [],
   "source": [
    "magic.Area_sqft = magic.Area_sqft.str.strip('sqft')\n",
    "magic['Area_sqft'] = magic['Area_sqft'].astype('int',errors='ignore')"
   ]
  },
  {
   "cell_type": "code",
   "execution_count": 26,
   "metadata": {},
   "outputs": [],
   "source": []
  },
  {
   "cell_type": "code",
   "execution_count": 79,
   "metadata": {},
   "outputs": [
    {
     "data": {
      "text/plain": [
       "dtype('O')"
      ]
     },
     "execution_count": 79,
     "metadata": {},
     "output_type": "execute_result"
    }
   ],
   "source": [
    "magic['Area_sqft'].dtype"
   ]
  },
  {
   "cell_type": "code",
   "execution_count": 35,
   "metadata": {},
   "outputs": [
    {
     "data": {
      "text/plain": [
       "2"
      ]
     },
     "execution_count": 35,
     "metadata": {},
     "output_type": "execute_result"
    }
   ],
   "source": [
    "magic.Direction.isnull().sum()"
   ]
  },
  {
   "cell_type": "code",
   "execution_count": 31,
   "metadata": {},
   "outputs": [
    {
     "data": {
      "text/plain": [
       "array(['carpet area', 'super area'], dtype=object)"
      ]
     },
     "execution_count": 31,
     "metadata": {},
     "output_type": "execute_result"
    }
   ],
   "source": [
    "magic.Area_type.unique()"
   ]
  },
  {
   "cell_type": "code",
   "execution_count": 82,
   "metadata": {},
   "outputs": [],
   "source": [
    "magic_data = magic "
   ]
  },
  {
   "cell_type": "code",
   "execution_count": 83,
   "metadata": {},
   "outputs": [],
   "source": [
    "magic_data.to_csv('magic_data.csv')"
   ]
  },
  {
   "cell_type": "code",
   "execution_count": 375,
   "metadata": {},
   "outputs": [],
   "source": [
    "df4 = pd.read_csv('magic_data.csv')"
   ]
  },
  {
   "cell_type": "code",
   "execution_count": 376,
   "metadata": {},
   "outputs": [],
   "source": [
    "df4.drop('Unnamed: 0', axis=1, inplace=True)"
   ]
  },
  {
   "cell_type": "code",
   "execution_count": null,
   "metadata": {},
   "outputs": [],
   "source": []
  },
  {
   "cell_type": "code",
   "execution_count": null,
   "metadata": {},
   "outputs": [],
   "source": []
  },
  {
   "cell_type": "code",
   "execution_count": 379,
   "metadata": {},
   "outputs": [],
   "source": [
    "df4.Area_sqft=df4.Area_sqft.replace(80,720)\n",
    "\n",
    "#df4.Area_sqft=df4.Area_sqft.str.replace(u'\\xa0','')\n",
    "\n"
   ]
  },
  {
   "cell_type": "code",
   "execution_count": null,
   "metadata": {},
   "outputs": [],
   "source": []
  },
  {
   "cell_type": "code",
   "execution_count": 381,
   "metadata": {},
   "outputs": [],
   "source": [
    "p = df4.Floor.str.split(expand=True)"
   ]
  },
  {
   "cell_type": "code",
   "execution_count": 384,
   "metadata": {},
   "outputs": [
    {
     "data": {
      "text/plain": [
       "<bound method NDFrame.head of                0     1     2     3       4\n",
       "0              2   out    of     4  floors\n",
       "1            NaN   NaN   NaN   NaN     NaN\n",
       "2    Unfurnished  None  None  None    None\n",
       "3             11   out    of    12  floors\n",
       "4              3   out    of     5  floors\n",
       "..           ...   ...   ...   ...     ...\n",
       "426            5   out    of     5  floors\n",
       "427            1   out    of     5  floors\n",
       "428            9   out    of    11  floors\n",
       "429            1   out    of     3  floors\n",
       "430            5   out    of    11  floors\n",
       "\n",
       "[431 rows x 5 columns]>"
      ]
     },
     "execution_count": 384,
     "metadata": {},
     "output_type": "execute_result"
    }
   ],
   "source": [
    "p.head"
   ]
  },
  {
   "cell_type": "code",
   "execution_count": 411,
   "metadata": {},
   "outputs": [],
   "source": [
    "df4['Floor'] = p[0]\n",
    "df4['Total_Floor'] = p[3]"
   ]
  },
  {
   "cell_type": "code",
   "execution_count": null,
   "metadata": {},
   "outputs": [],
   "source": [
    "df4.Floor = df4.Floor.replace(['Unfurnished','New'], \"No Information\")\n",
    "df4.Floor = df4.Floor.replace('Ground', '0')\n",
    "df4.Floor= df4.Floor.fillna(\"No Information\")\n",
    "\n",
    "df4.Total_Floor=df4.Total_Floor.fillna(\"No Information\")\n",
    "\n",
    "df4.Direction = df4.Direction.replace(['bathroom 3','bathroom 2','overlooking Main Road','nan'], 'No Information')\n",
    "df4.Direction = df4.Direction.fillna(\"No Information\")\n",
    "\n",
    "df4.Possesion = df4.Possesion.replace('ransactionNew Property   ', \"Not decided\")\n",
    "\n",
    "df4.Full_Address = df4.Full_Address.str.strip()"
   ]
  },
  {
   "cell_type": "code",
   "execution_count": 423,
   "metadata": {},
   "outputs": [],
   "source": [
    "#Dropped Column\n",
    "\n",
    "#df4 = df4.drop('View', axis=1)"
   ]
  },
  {
   "cell_type": "code",
   "execution_count": 434,
   "metadata": {},
   "outputs": [
    {
     "data": {
      "text/html": [
       "<div>\n",
       "<style scoped>\n",
       "    .dataframe tbody tr th:only-of-type {\n",
       "        vertical-align: middle;\n",
       "    }\n",
       "\n",
       "    .dataframe tbody tr th {\n",
       "        vertical-align: top;\n",
       "    }\n",
       "\n",
       "    .dataframe thead th {\n",
       "        text-align: right;\n",
       "    }\n",
       "</style>\n",
       "<table border=\"1\" class=\"dataframe\">\n",
       "  <thead>\n",
       "    <tr style=\"text-align: right;\">\n",
       "      <th></th>\n",
       "      <th>Society</th>\n",
       "      <th>Price</th>\n",
       "      <th>BHK</th>\n",
       "      <th>Area_type</th>\n",
       "      <th>Area_sqft</th>\n",
       "      <th>Direction</th>\n",
       "      <th>Floor</th>\n",
       "      <th>Possesion</th>\n",
       "      <th>Main_Area</th>\n",
       "      <th>Full_Address</th>\n",
       "      <th>Total_Floor</th>\n",
       "    </tr>\n",
       "  </thead>\n",
       "  <tbody>\n",
       "    <tr>\n",
       "      <th>0</th>\n",
       "      <td>Dukes Galaxy</td>\n",
       "      <td>2.48</td>\n",
       "      <td>3</td>\n",
       "      <td>carpet area</td>\n",
       "      <td>2020</td>\n",
       "      <td>East</td>\n",
       "      <td>2</td>\n",
       "      <td>Ready to Move</td>\n",
       "      <td>Banjara Hills,</td>\n",
       "      <td>BanjaraHills,NH9</td>\n",
       "      <td>4</td>\n",
       "    </tr>\n",
       "    <tr>\n",
       "      <th>1</th>\n",
       "      <td>Sri Hemadurga Sivahills</td>\n",
       "      <td>1.14</td>\n",
       "      <td>3</td>\n",
       "      <td>super area</td>\n",
       "      <td>1900</td>\n",
       "      <td>No Information</td>\n",
       "      <td>No Information</td>\n",
       "      <td>Possession by Dec '21</td>\n",
       "      <td>Puppalaguda</td>\n",
       "      <td>Puppalaguda</td>\n",
       "      <td>No Information</td>\n",
       "    </tr>\n",
       "    <tr>\n",
       "      <th>2</th>\n",
       "      <td>SMR Vinay Iconia</td>\n",
       "      <td>1.21</td>\n",
       "      <td>2</td>\n",
       "      <td>super area</td>\n",
       "      <td>1495</td>\n",
       "      <td>No Information</td>\n",
       "      <td>No Information</td>\n",
       "      <td>Not decided</td>\n",
       "      <td>Kondapur</td>\n",
       "      <td>Kondapur</td>\n",
       "      <td>No Information</td>\n",
       "    </tr>\n",
       "    <tr>\n",
       "      <th>3</th>\n",
       "      <td>Honer Vivantis</td>\n",
       "      <td>1.30</td>\n",
       "      <td>3</td>\n",
       "      <td>super area</td>\n",
       "      <td>1845</td>\n",
       "      <td>West</td>\n",
       "      <td>11</td>\n",
       "      <td>Ready to Move</td>\n",
       "      <td>Gopanapalli</td>\n",
       "      <td>Gopanapalli</td>\n",
       "      <td>12</td>\n",
       "    </tr>\n",
       "    <tr>\n",
       "      <th>4</th>\n",
       "      <td>PBEL City</td>\n",
       "      <td>0.42</td>\n",
       "      <td>2</td>\n",
       "      <td>carpet area</td>\n",
       "      <td>780</td>\n",
       "      <td>North</td>\n",
       "      <td>3</td>\n",
       "      <td>Ready to Move</td>\n",
       "      <td>Medipally</td>\n",
       "      <td>Medipally</td>\n",
       "      <td>5</td>\n",
       "    </tr>\n",
       "    <tr>\n",
       "      <th>...</th>\n",
       "      <td>...</td>\n",
       "      <td>...</td>\n",
       "      <td>...</td>\n",
       "      <td>...</td>\n",
       "      <td>...</td>\n",
       "      <td>...</td>\n",
       "      <td>...</td>\n",
       "      <td>...</td>\n",
       "      <td>...</td>\n",
       "      <td>...</td>\n",
       "      <td>...</td>\n",
       "    </tr>\n",
       "    <tr>\n",
       "      <th>426</th>\n",
       "      <td>SMR Vinay Iconia</td>\n",
       "      <td>0.44</td>\n",
       "      <td>2</td>\n",
       "      <td>carpet area</td>\n",
       "      <td>900</td>\n",
       "      <td>West</td>\n",
       "      <td>5</td>\n",
       "      <td>Ready to Move</td>\n",
       "      <td>Uppal, NH</td>\n",
       "      <td>Uppal,NH22</td>\n",
       "      <td>5</td>\n",
       "    </tr>\n",
       "    <tr>\n",
       "      <th>427</th>\n",
       "      <td>Rajapushpa Regalia</td>\n",
       "      <td>0.90</td>\n",
       "      <td>3</td>\n",
       "      <td>carpet area</td>\n",
       "      <td>1480</td>\n",
       "      <td>East</td>\n",
       "      <td>1</td>\n",
       "      <td>Ready to Move</td>\n",
       "      <td>DD Colony,</td>\n",
       "      <td>DDColony,Amberpet</td>\n",
       "      <td>5</td>\n",
       "    </tr>\n",
       "    <tr>\n",
       "      <th>428</th>\n",
       "      <td>Dukes Galaxy</td>\n",
       "      <td>1.20</td>\n",
       "      <td>2</td>\n",
       "      <td>carpet area</td>\n",
       "      <td>1240</td>\n",
       "      <td>South</td>\n",
       "      <td>9</td>\n",
       "      <td>Ready to Move</td>\n",
       "      <td>Hitech City</td>\n",
       "      <td>HitechCity</td>\n",
       "      <td>11</td>\n",
       "    </tr>\n",
       "    <tr>\n",
       "      <th>429</th>\n",
       "      <td>SMR Vinay Iconia</td>\n",
       "      <td>0.45</td>\n",
       "      <td>2</td>\n",
       "      <td>carpet area</td>\n",
       "      <td>980</td>\n",
       "      <td>East</td>\n",
       "      <td>1</td>\n",
       "      <td>Ready to Move</td>\n",
       "      <td>Miyapur, NH</td>\n",
       "      <td>Miyapur,NH9</td>\n",
       "      <td>3</td>\n",
       "    </tr>\n",
       "    <tr>\n",
       "      <th>430</th>\n",
       "      <td>Dukes Galaxy</td>\n",
       "      <td>0.55</td>\n",
       "      <td>2</td>\n",
       "      <td>carpet area</td>\n",
       "      <td>900</td>\n",
       "      <td>No Information</td>\n",
       "      <td>5</td>\n",
       "      <td>Ready to Move</td>\n",
       "      <td>Attapur</td>\n",
       "      <td>Attapur</td>\n",
       "      <td>11</td>\n",
       "    </tr>\n",
       "  </tbody>\n",
       "</table>\n",
       "<p>431 rows × 11 columns</p>\n",
       "</div>"
      ],
      "text/plain": [
       "                     Society  Price  BHK    Area_type  Area_sqft  \\\n",
       "0               Dukes Galaxy   2.48    3  carpet area       2020   \n",
       "1    Sri Hemadurga Sivahills   1.14    3   super area       1900   \n",
       "2           SMR Vinay Iconia   1.21    2   super area       1495   \n",
       "3             Honer Vivantis   1.30    3   super area       1845   \n",
       "4                  PBEL City   0.42    2  carpet area        780   \n",
       "..                       ...    ...  ...          ...        ...   \n",
       "426         SMR Vinay Iconia   0.44    2  carpet area        900   \n",
       "427       Rajapushpa Regalia   0.90    3  carpet area       1480   \n",
       "428             Dukes Galaxy   1.20    2  carpet area       1240   \n",
       "429         SMR Vinay Iconia   0.45    2  carpet area        980   \n",
       "430             Dukes Galaxy   0.55    2  carpet area        900   \n",
       "\n",
       "          Direction           Floor               Possesion       Main_Area  \\\n",
       "0              East               2         Ready to Move    Banjara Hills,   \n",
       "1    No Information  No Information   Possession by Dec '21   Puppalaguda     \n",
       "2    No Information  No Information             Not decided      Kondapur     \n",
       "3              West              11         Ready to Move     Gopanapalli     \n",
       "4             North               3         Ready to Move       Medipally     \n",
       "..              ...             ...                     ...             ...   \n",
       "426            West               5         Ready to Move         Uppal, NH   \n",
       "427            East               1         Ready to Move        DD Colony,   \n",
       "428           South               9         Ready to Move       Hitech City   \n",
       "429            East               1         Ready to Move       Miyapur, NH   \n",
       "430  No Information               5         Ready to Move         Attapur     \n",
       "\n",
       "          Full_Address     Total_Floor  \n",
       "0     BanjaraHills,NH9               4  \n",
       "1          Puppalaguda  No Information  \n",
       "2             Kondapur  No Information  \n",
       "3          Gopanapalli              12  \n",
       "4            Medipally               5  \n",
       "..                 ...             ...  \n",
       "426         Uppal,NH22               5  \n",
       "427  DDColony,Amberpet               5  \n",
       "428         HitechCity              11  \n",
       "429        Miyapur,NH9               3  \n",
       "430            Attapur              11  \n",
       "\n",
       "[431 rows x 11 columns]"
      ]
     },
     "execution_count": 434,
     "metadata": {},
     "output_type": "execute_result"
    }
   ],
   "source": [
    "df4"
   ]
  },
  {
   "cell_type": "code",
   "execution_count": 437,
   "metadata": {},
   "outputs": [],
   "source": [
    "mb = df4"
   ]
  },
  {
   "cell_type": "code",
   "execution_count": 438,
   "metadata": {},
   "outputs": [],
   "source": [
    "mb.to_csv('mb.csv')"
   ]
  },
  {
   "cell_type": "markdown",
   "metadata": {},
   "source": [
    "### Importing The Clean Data"
   ]
  },
  {
   "cell_type": "code",
   "execution_count": 6,
   "metadata": {},
   "outputs": [],
   "source": [
    "data = pd.read_csv('mb.csv')"
   ]
  },
  {
   "cell_type": "code",
   "execution_count": 7,
   "metadata": {},
   "outputs": [],
   "source": [
    "data.drop('Unnamed: 0', axis=1,inplace=True)"
   ]
  },
  {
   "cell_type": "code",
   "execution_count": 8,
   "metadata": {},
   "outputs": [],
   "source": [
    "data.index = np.arange(1,len(data)+1)"
   ]
  },
  {
   "cell_type": "markdown",
   "metadata": {},
   "source": [
    "### Final Data"
   ]
  },
  {
   "cell_type": "code",
   "execution_count": 9,
   "metadata": {},
   "outputs": [
    {
     "data": {
      "text/html": [
       "<div>\n",
       "<style scoped>\n",
       "    .dataframe tbody tr th:only-of-type {\n",
       "        vertical-align: middle;\n",
       "    }\n",
       "\n",
       "    .dataframe tbody tr th {\n",
       "        vertical-align: top;\n",
       "    }\n",
       "\n",
       "    .dataframe thead th {\n",
       "        text-align: right;\n",
       "    }\n",
       "</style>\n",
       "<table border=\"1\" class=\"dataframe\">\n",
       "  <thead>\n",
       "    <tr style=\"text-align: right;\">\n",
       "      <th></th>\n",
       "      <th>Society</th>\n",
       "      <th>Price</th>\n",
       "      <th>BHK</th>\n",
       "      <th>Area_type</th>\n",
       "      <th>Area_sqft</th>\n",
       "      <th>Direction</th>\n",
       "      <th>Floor</th>\n",
       "      <th>Possesion</th>\n",
       "      <th>Main_Area</th>\n",
       "      <th>Full_Address</th>\n",
       "      <th>Total_Floor</th>\n",
       "    </tr>\n",
       "  </thead>\n",
       "  <tbody>\n",
       "    <tr>\n",
       "      <th>1</th>\n",
       "      <td>Dukes Galaxy</td>\n",
       "      <td>2.48</td>\n",
       "      <td>3</td>\n",
       "      <td>carpet area</td>\n",
       "      <td>2020</td>\n",
       "      <td>East</td>\n",
       "      <td>2</td>\n",
       "      <td>Ready to Move</td>\n",
       "      <td>Banjara Hills,</td>\n",
       "      <td>BanjaraHills,NH9</td>\n",
       "      <td>4</td>\n",
       "    </tr>\n",
       "    <tr>\n",
       "      <th>2</th>\n",
       "      <td>Sri Hemadurga Sivahills</td>\n",
       "      <td>1.14</td>\n",
       "      <td>3</td>\n",
       "      <td>super area</td>\n",
       "      <td>1900</td>\n",
       "      <td>No Information</td>\n",
       "      <td>No Information</td>\n",
       "      <td>Possession by Dec '21</td>\n",
       "      <td>Puppalaguda</td>\n",
       "      <td>Puppalaguda</td>\n",
       "      <td>No Information</td>\n",
       "    </tr>\n",
       "    <tr>\n",
       "      <th>3</th>\n",
       "      <td>SMR Vinay Iconia</td>\n",
       "      <td>1.21</td>\n",
       "      <td>2</td>\n",
       "      <td>super area</td>\n",
       "      <td>1495</td>\n",
       "      <td>No Information</td>\n",
       "      <td>No Information</td>\n",
       "      <td>Not decided</td>\n",
       "      <td>Kondapur</td>\n",
       "      <td>Kondapur</td>\n",
       "      <td>No Information</td>\n",
       "    </tr>\n",
       "    <tr>\n",
       "      <th>4</th>\n",
       "      <td>Honer Vivantis</td>\n",
       "      <td>1.30</td>\n",
       "      <td>3</td>\n",
       "      <td>super area</td>\n",
       "      <td>1845</td>\n",
       "      <td>West</td>\n",
       "      <td>11</td>\n",
       "      <td>Ready to Move</td>\n",
       "      <td>Gopanapalli</td>\n",
       "      <td>Gopanapalli</td>\n",
       "      <td>12</td>\n",
       "    </tr>\n",
       "    <tr>\n",
       "      <th>5</th>\n",
       "      <td>PBEL City</td>\n",
       "      <td>0.42</td>\n",
       "      <td>2</td>\n",
       "      <td>carpet area</td>\n",
       "      <td>780</td>\n",
       "      <td>North</td>\n",
       "      <td>3</td>\n",
       "      <td>Ready to Move</td>\n",
       "      <td>Medipally</td>\n",
       "      <td>Medipally</td>\n",
       "      <td>5</td>\n",
       "    </tr>\n",
       "    <tr>\n",
       "      <th>...</th>\n",
       "      <td>...</td>\n",
       "      <td>...</td>\n",
       "      <td>...</td>\n",
       "      <td>...</td>\n",
       "      <td>...</td>\n",
       "      <td>...</td>\n",
       "      <td>...</td>\n",
       "      <td>...</td>\n",
       "      <td>...</td>\n",
       "      <td>...</td>\n",
       "      <td>...</td>\n",
       "    </tr>\n",
       "    <tr>\n",
       "      <th>427</th>\n",
       "      <td>SMR Vinay Iconia</td>\n",
       "      <td>0.44</td>\n",
       "      <td>2</td>\n",
       "      <td>carpet area</td>\n",
       "      <td>900</td>\n",
       "      <td>West</td>\n",
       "      <td>5</td>\n",
       "      <td>Ready to Move</td>\n",
       "      <td>Uppal, NH</td>\n",
       "      <td>Uppal,NH22</td>\n",
       "      <td>5</td>\n",
       "    </tr>\n",
       "    <tr>\n",
       "      <th>428</th>\n",
       "      <td>Rajapushpa Regalia</td>\n",
       "      <td>0.90</td>\n",
       "      <td>3</td>\n",
       "      <td>carpet area</td>\n",
       "      <td>1480</td>\n",
       "      <td>East</td>\n",
       "      <td>1</td>\n",
       "      <td>Ready to Move</td>\n",
       "      <td>DD Colony,</td>\n",
       "      <td>DDColony,Amberpet</td>\n",
       "      <td>5</td>\n",
       "    </tr>\n",
       "    <tr>\n",
       "      <th>429</th>\n",
       "      <td>Dukes Galaxy</td>\n",
       "      <td>1.20</td>\n",
       "      <td>2</td>\n",
       "      <td>carpet area</td>\n",
       "      <td>1240</td>\n",
       "      <td>South</td>\n",
       "      <td>9</td>\n",
       "      <td>Ready to Move</td>\n",
       "      <td>Hitech City</td>\n",
       "      <td>HitechCity</td>\n",
       "      <td>11</td>\n",
       "    </tr>\n",
       "    <tr>\n",
       "      <th>430</th>\n",
       "      <td>SMR Vinay Iconia</td>\n",
       "      <td>0.45</td>\n",
       "      <td>2</td>\n",
       "      <td>carpet area</td>\n",
       "      <td>980</td>\n",
       "      <td>East</td>\n",
       "      <td>1</td>\n",
       "      <td>Ready to Move</td>\n",
       "      <td>Miyapur, NH</td>\n",
       "      <td>Miyapur,NH9</td>\n",
       "      <td>3</td>\n",
       "    </tr>\n",
       "    <tr>\n",
       "      <th>431</th>\n",
       "      <td>Dukes Galaxy</td>\n",
       "      <td>0.55</td>\n",
       "      <td>2</td>\n",
       "      <td>carpet area</td>\n",
       "      <td>900</td>\n",
       "      <td>No Information</td>\n",
       "      <td>5</td>\n",
       "      <td>Ready to Move</td>\n",
       "      <td>Attapur</td>\n",
       "      <td>Attapur</td>\n",
       "      <td>11</td>\n",
       "    </tr>\n",
       "  </tbody>\n",
       "</table>\n",
       "<p>431 rows × 11 columns</p>\n",
       "</div>"
      ],
      "text/plain": [
       "                     Society  Price  BHK    Area_type  Area_sqft  \\\n",
       "1               Dukes Galaxy   2.48    3  carpet area       2020   \n",
       "2    Sri Hemadurga Sivahills   1.14    3   super area       1900   \n",
       "3           SMR Vinay Iconia   1.21    2   super area       1495   \n",
       "4             Honer Vivantis   1.30    3   super area       1845   \n",
       "5                  PBEL City   0.42    2  carpet area        780   \n",
       "..                       ...    ...  ...          ...        ...   \n",
       "427         SMR Vinay Iconia   0.44    2  carpet area        900   \n",
       "428       Rajapushpa Regalia   0.90    3  carpet area       1480   \n",
       "429             Dukes Galaxy   1.20    2  carpet area       1240   \n",
       "430         SMR Vinay Iconia   0.45    2  carpet area        980   \n",
       "431             Dukes Galaxy   0.55    2  carpet area        900   \n",
       "\n",
       "          Direction           Floor               Possesion       Main_Area  \\\n",
       "1              East               2         Ready to Move    Banjara Hills,   \n",
       "2    No Information  No Information   Possession by Dec '21   Puppalaguda     \n",
       "3    No Information  No Information             Not decided      Kondapur     \n",
       "4              West              11         Ready to Move     Gopanapalli     \n",
       "5             North               3         Ready to Move       Medipally     \n",
       "..              ...             ...                     ...             ...   \n",
       "427            West               5         Ready to Move         Uppal, NH   \n",
       "428            East               1         Ready to Move        DD Colony,   \n",
       "429           South               9         Ready to Move       Hitech City   \n",
       "430            East               1         Ready to Move       Miyapur, NH   \n",
       "431  No Information               5         Ready to Move         Attapur     \n",
       "\n",
       "          Full_Address     Total_Floor  \n",
       "1     BanjaraHills,NH9               4  \n",
       "2          Puppalaguda  No Information  \n",
       "3             Kondapur  No Information  \n",
       "4          Gopanapalli              12  \n",
       "5            Medipally               5  \n",
       "..                 ...             ...  \n",
       "427         Uppal,NH22               5  \n",
       "428  DDColony,Amberpet               5  \n",
       "429         HitechCity              11  \n",
       "430        Miyapur,NH9               3  \n",
       "431            Attapur              11  \n",
       "\n",
       "[431 rows x 11 columns]"
      ]
     },
     "execution_count": 9,
     "metadata": {},
     "output_type": "execute_result"
    }
   ],
   "source": [
    "data"
   ]
  },
  {
   "cell_type": "markdown",
   "metadata": {},
   "source": [
    "### Information about Data"
   ]
  },
  {
   "cell_type": "code",
   "execution_count": 14,
   "metadata": {},
   "outputs": [
    {
     "name": "stdout",
     "output_type": "stream",
     "text": [
      "Maximum Price: 9.0 cr Lowest Price: 0.21 cr Mean Price: 0.9480278422273777 cr\n"
     ]
    }
   ],
   "source": [
    "print('Maximum Price:',data.Price.max(),'cr','Lowest Price:',data.Price.min(),'cr','Mean Price:',data.Price.mean(),'cr')\n"
   ]
  },
  {
   "cell_type": "markdown",
   "metadata": {},
   "source": [
    "### Observation\n",
    "Maximum Price is 9 crore\n",
    "Lowest Price is 21 lac\n",
    "Mean price is 95 lac approx"
   ]
  },
  {
   "cell_type": "code",
   "execution_count": 22,
   "metadata": {},
   "outputs": [
    {
     "data": {
      "text/plain": [
       "2    209\n",
       "3    203\n",
       "4     11\n",
       "1      5\n",
       "8      1\n",
       "7      1\n",
       "5      1\n",
       "Name: BHK, dtype: int64"
      ]
     },
     "execution_count": 22,
     "metadata": {},
     "output_type": "execute_result"
    }
   ],
   "source": [
    "data.BHK.value_counts()"
   ]
  },
  {
   "cell_type": "markdown",
   "metadata": {},
   "source": [
    "### Observation:\n",
    "\n",
    "The societies in hyderabad has Maximum flats almost equally 2 Bedroom and 3 Bedroom Formats\n",
    "\n",
    "8 bedroom is the maximum number of bedrooms in a flat\n",
    "\n",
    "Interesting, That 1 BHK is slowly vanishing in main frame builders"
   ]
  },
  {
   "cell_type": "code",
   "execution_count": 6,
   "metadata": {},
   "outputs": [
    {
     "data": {
      "text/html": [
       "<div>\n",
       "<style scoped>\n",
       "    .dataframe tbody tr th:only-of-type {\n",
       "        vertical-align: middle;\n",
       "    }\n",
       "\n",
       "    .dataframe tbody tr th {\n",
       "        vertical-align: top;\n",
       "    }\n",
       "\n",
       "    .dataframe thead th {\n",
       "        text-align: right;\n",
       "    }\n",
       "</style>\n",
       "<table border=\"1\" class=\"dataframe\">\n",
       "  <thead>\n",
       "    <tr style=\"text-align: right;\">\n",
       "      <th></th>\n",
       "      <th>Society</th>\n",
       "      <th>Price</th>\n",
       "      <th>BHK</th>\n",
       "      <th>Area_type</th>\n",
       "      <th>Area_sqft</th>\n",
       "      <th>Direction</th>\n",
       "      <th>Floor</th>\n",
       "      <th>Possesion</th>\n",
       "      <th>Main_Area</th>\n",
       "      <th>Full_Address</th>\n",
       "      <th>Total_Floor</th>\n",
       "    </tr>\n",
       "  </thead>\n",
       "  <tbody>\n",
       "    <tr>\n",
       "      <th>0</th>\n",
       "      <td>SMR Vinay Iconia</td>\n",
       "      <td>0.65</td>\n",
       "      <td>2.0</td>\n",
       "      <td>carpet area</td>\n",
       "      <td>1000.0</td>\n",
       "      <td>East</td>\n",
       "      <td>3</td>\n",
       "      <td>Ready to Move</td>\n",
       "      <td>Gachibowli</td>\n",
       "      <td>Gachibowli</td>\n",
       "      <td>5</td>\n",
       "    </tr>\n",
       "    <tr>\n",
       "      <th>1</th>\n",
       "      <td>NaN</td>\n",
       "      <td>0.70</td>\n",
       "      <td>NaN</td>\n",
       "      <td>NaN</td>\n",
       "      <td>NaN</td>\n",
       "      <td>NaN</td>\n",
       "      <td>NaN</td>\n",
       "      <td>NaN</td>\n",
       "      <td>NaN</td>\n",
       "      <td>NaN</td>\n",
       "      <td>NaN</td>\n",
       "    </tr>\n",
       "  </tbody>\n",
       "</table>\n",
       "</div>"
      ],
      "text/plain": [
       "            Society  Price  BHK    Area_type  Area_sqft Direction Floor  \\\n",
       "0  SMR Vinay Iconia   0.65  2.0  carpet area     1000.0      East     3   \n",
       "1               NaN   0.70  NaN          NaN        NaN       NaN   NaN   \n",
       "\n",
       "         Possesion     Main_Area Full_Address Total_Floor  \n",
       "0  Ready to Move    Gachibowli     Gachibowli           5  \n",
       "1              NaN           NaN          NaN         NaN  "
      ]
     },
     "execution_count": 6,
     "metadata": {},
     "output_type": "execute_result"
    }
   ],
   "source": [
    "data.mode()"
   ]
  },
  {
   "cell_type": "markdown",
   "metadata": {},
   "source": [
    "### Observation\n",
    "\n",
    "the most flats for sale are in **SMR Vinay Iconia** \n",
    "\n",
    "the most flats for sale are priced **65 Lac**\n",
    "\n",
    "the most flats for sale have **2 Bedroom**\n",
    "\n",
    "the most flats for sale are made in  **1000 Square Feet**\n",
    "\n",
    "the most flats for sale Direction is  **East**\n",
    "\n",
    "the most flats for sale are in **Gacchibowli**\n",
    "\n"
   ]
  },
  {
   "cell_type": "markdown",
   "metadata": {},
   "source": []
  },
  {
   "cell_type": "code",
   "execution_count": 17,
   "metadata": {},
   "outputs": [
    {
     "data": {
      "text/html": [
       "<div>\n",
       "<style scoped>\n",
       "    .dataframe tbody tr th:only-of-type {\n",
       "        vertical-align: middle;\n",
       "    }\n",
       "\n",
       "    .dataframe tbody tr th {\n",
       "        vertical-align: top;\n",
       "    }\n",
       "\n",
       "    .dataframe thead th {\n",
       "        text-align: right;\n",
       "    }\n",
       "</style>\n",
       "<table border=\"1\" class=\"dataframe\">\n",
       "  <thead>\n",
       "    <tr style=\"text-align: right;\">\n",
       "      <th></th>\n",
       "      <th>Society</th>\n",
       "      <th>Price</th>\n",
       "      <th>BHK</th>\n",
       "      <th>Area_type</th>\n",
       "      <th>Area_sqft</th>\n",
       "      <th>Direction</th>\n",
       "      <th>Floor</th>\n",
       "      <th>Possesion</th>\n",
       "      <th>Main_Area</th>\n",
       "      <th>Full_Address</th>\n",
       "      <th>Total_Floor</th>\n",
       "    </tr>\n",
       "  </thead>\n",
       "  <tbody>\n",
       "    <tr>\n",
       "      <th>0</th>\n",
       "      <td>Dukes Galaxy</td>\n",
       "      <td>2.48</td>\n",
       "      <td>3</td>\n",
       "      <td>carpet area</td>\n",
       "      <td>2020</td>\n",
       "      <td>East</td>\n",
       "      <td>2</td>\n",
       "      <td>Ready to Move</td>\n",
       "      <td>Banjara Hills,</td>\n",
       "      <td>BanjaraHills,NH9</td>\n",
       "      <td>4</td>\n",
       "    </tr>\n",
       "    <tr>\n",
       "      <th>1</th>\n",
       "      <td>Sri Hemadurga Sivahills</td>\n",
       "      <td>1.14</td>\n",
       "      <td>3</td>\n",
       "      <td>super area</td>\n",
       "      <td>1900</td>\n",
       "      <td>No Information</td>\n",
       "      <td>No Information</td>\n",
       "      <td>Possession by Dec '21</td>\n",
       "      <td>Puppalaguda</td>\n",
       "      <td>Puppalaguda</td>\n",
       "      <td>No Information</td>\n",
       "    </tr>\n",
       "    <tr>\n",
       "      <th>2</th>\n",
       "      <td>SMR Vinay Iconia</td>\n",
       "      <td>1.21</td>\n",
       "      <td>2</td>\n",
       "      <td>super area</td>\n",
       "      <td>1495</td>\n",
       "      <td>No Information</td>\n",
       "      <td>No Information</td>\n",
       "      <td>Not decided</td>\n",
       "      <td>Kondapur</td>\n",
       "      <td>Kondapur</td>\n",
       "      <td>No Information</td>\n",
       "    </tr>\n",
       "    <tr>\n",
       "      <th>3</th>\n",
       "      <td>Honer Vivantis</td>\n",
       "      <td>1.30</td>\n",
       "      <td>3</td>\n",
       "      <td>super area</td>\n",
       "      <td>1845</td>\n",
       "      <td>West</td>\n",
       "      <td>11</td>\n",
       "      <td>Ready to Move</td>\n",
       "      <td>Gopanapalli</td>\n",
       "      <td>Gopanapalli</td>\n",
       "      <td>12</td>\n",
       "    </tr>\n",
       "    <tr>\n",
       "      <th>4</th>\n",
       "      <td>PBEL City</td>\n",
       "      <td>0.42</td>\n",
       "      <td>2</td>\n",
       "      <td>carpet area</td>\n",
       "      <td>780</td>\n",
       "      <td>North</td>\n",
       "      <td>3</td>\n",
       "      <td>Ready to Move</td>\n",
       "      <td>Medipally</td>\n",
       "      <td>Medipally</td>\n",
       "      <td>5</td>\n",
       "    </tr>\n",
       "  </tbody>\n",
       "</table>\n",
       "</div>"
      ],
      "text/plain": [
       "                   Society  Price  BHK    Area_type  Area_sqft  \\\n",
       "0             Dukes Galaxy   2.48    3  carpet area       2020   \n",
       "1  Sri Hemadurga Sivahills   1.14    3   super area       1900   \n",
       "2         SMR Vinay Iconia   1.21    2   super area       1495   \n",
       "3           Honer Vivantis   1.30    3   super area       1845   \n",
       "4                PBEL City   0.42    2  carpet area        780   \n",
       "\n",
       "        Direction           Floor               Possesion       Main_Area  \\\n",
       "0            East               2         Ready to Move    Banjara Hills,   \n",
       "1  No Information  No Information   Possession by Dec '21   Puppalaguda     \n",
       "2  No Information  No Information             Not decided      Kondapur     \n",
       "3            West              11         Ready to Move     Gopanapalli     \n",
       "4           North               3         Ready to Move       Medipally     \n",
       "\n",
       "       Full_Address     Total_Floor  \n",
       "0  BanjaraHills,NH9               4  \n",
       "1       Puppalaguda  No Information  \n",
       "2          Kondapur  No Information  \n",
       "3       Gopanapalli              12  \n",
       "4         Medipally               5  "
      ]
     },
     "execution_count": 17,
     "metadata": {},
     "output_type": "execute_result"
    }
   ],
   "source": [
    "data.head()"
   ]
  },
  {
   "cell_type": "markdown",
   "metadata": {},
   "source": [
    "**First five values of the Table**"
   ]
  },
  {
   "cell_type": "code",
   "execution_count": 18,
   "metadata": {},
   "outputs": [
    {
     "data": {
      "text/html": [
       "<div>\n",
       "<style scoped>\n",
       "    .dataframe tbody tr th:only-of-type {\n",
       "        vertical-align: middle;\n",
       "    }\n",
       "\n",
       "    .dataframe tbody tr th {\n",
       "        vertical-align: top;\n",
       "    }\n",
       "\n",
       "    .dataframe thead th {\n",
       "        text-align: right;\n",
       "    }\n",
       "</style>\n",
       "<table border=\"1\" class=\"dataframe\">\n",
       "  <thead>\n",
       "    <tr style=\"text-align: right;\">\n",
       "      <th></th>\n",
       "      <th>Society</th>\n",
       "      <th>Price</th>\n",
       "      <th>BHK</th>\n",
       "      <th>Area_type</th>\n",
       "      <th>Area_sqft</th>\n",
       "      <th>Direction</th>\n",
       "      <th>Floor</th>\n",
       "      <th>Possesion</th>\n",
       "      <th>Main_Area</th>\n",
       "      <th>Full_Address</th>\n",
       "      <th>Total_Floor</th>\n",
       "    </tr>\n",
       "  </thead>\n",
       "  <tbody>\n",
       "    <tr>\n",
       "      <th>426</th>\n",
       "      <td>SMR Vinay Iconia</td>\n",
       "      <td>0.44</td>\n",
       "      <td>2</td>\n",
       "      <td>carpet area</td>\n",
       "      <td>900</td>\n",
       "      <td>West</td>\n",
       "      <td>5</td>\n",
       "      <td>Ready to Move</td>\n",
       "      <td>Uppal, NH</td>\n",
       "      <td>Uppal,NH22</td>\n",
       "      <td>5</td>\n",
       "    </tr>\n",
       "    <tr>\n",
       "      <th>427</th>\n",
       "      <td>Rajapushpa Regalia</td>\n",
       "      <td>0.90</td>\n",
       "      <td>3</td>\n",
       "      <td>carpet area</td>\n",
       "      <td>1480</td>\n",
       "      <td>East</td>\n",
       "      <td>1</td>\n",
       "      <td>Ready to Move</td>\n",
       "      <td>DD Colony,</td>\n",
       "      <td>DDColony,Amberpet</td>\n",
       "      <td>5</td>\n",
       "    </tr>\n",
       "    <tr>\n",
       "      <th>428</th>\n",
       "      <td>Dukes Galaxy</td>\n",
       "      <td>1.20</td>\n",
       "      <td>2</td>\n",
       "      <td>carpet area</td>\n",
       "      <td>1240</td>\n",
       "      <td>South</td>\n",
       "      <td>9</td>\n",
       "      <td>Ready to Move</td>\n",
       "      <td>Hitech City</td>\n",
       "      <td>HitechCity</td>\n",
       "      <td>11</td>\n",
       "    </tr>\n",
       "    <tr>\n",
       "      <th>429</th>\n",
       "      <td>SMR Vinay Iconia</td>\n",
       "      <td>0.45</td>\n",
       "      <td>2</td>\n",
       "      <td>carpet area</td>\n",
       "      <td>980</td>\n",
       "      <td>East</td>\n",
       "      <td>1</td>\n",
       "      <td>Ready to Move</td>\n",
       "      <td>Miyapur, NH</td>\n",
       "      <td>Miyapur,NH9</td>\n",
       "      <td>3</td>\n",
       "    </tr>\n",
       "    <tr>\n",
       "      <th>430</th>\n",
       "      <td>Dukes Galaxy</td>\n",
       "      <td>0.55</td>\n",
       "      <td>2</td>\n",
       "      <td>carpet area</td>\n",
       "      <td>900</td>\n",
       "      <td>No Information</td>\n",
       "      <td>5</td>\n",
       "      <td>Ready to Move</td>\n",
       "      <td>Attapur</td>\n",
       "      <td>Attapur</td>\n",
       "      <td>11</td>\n",
       "    </tr>\n",
       "  </tbody>\n",
       "</table>\n",
       "</div>"
      ],
      "text/plain": [
       "                Society  Price  BHK    Area_type  Area_sqft       Direction  \\\n",
       "426    SMR Vinay Iconia   0.44    2  carpet area        900            West   \n",
       "427  Rajapushpa Regalia   0.90    3  carpet area       1480            East   \n",
       "428        Dukes Galaxy   1.20    2  carpet area       1240           South   \n",
       "429    SMR Vinay Iconia   0.45    2  carpet area        980            East   \n",
       "430        Dukes Galaxy   0.55    2  carpet area        900  No Information   \n",
       "\n",
       "    Floor        Possesion    Main_Area       Full_Address Total_Floor  \n",
       "426     5  Ready to Move      Uppal, NH         Uppal,NH22           5  \n",
       "427     1  Ready to Move     DD Colony,  DDColony,Amberpet           5  \n",
       "428     9  Ready to Move    Hitech City         HitechCity          11  \n",
       "429     1  Ready to Move    Miyapur, NH        Miyapur,NH9           3  \n",
       "430     5  Ready to Move      Attapur              Attapur          11  "
      ]
     },
     "execution_count": 18,
     "metadata": {},
     "output_type": "execute_result"
    }
   ],
   "source": [
    "data.tail()"
   ]
  },
  {
   "cell_type": "markdown",
   "metadata": {},
   "source": [
    "**Last five values of the Table**"
   ]
  },
  {
   "cell_type": "code",
   "execution_count": 19,
   "metadata": {},
   "outputs": [
    {
     "name": "stdout",
     "output_type": "stream",
     "text": [
      "<class 'pandas.core.frame.DataFrame'>\n",
      "RangeIndex: 431 entries, 0 to 430\n",
      "Data columns (total 11 columns):\n",
      " #   Column        Non-Null Count  Dtype  \n",
      "---  ------        --------------  -----  \n",
      " 0   Society       431 non-null    object \n",
      " 1   Price         431 non-null    float64\n",
      " 2   BHK           431 non-null    int64  \n",
      " 3   Area_type     431 non-null    object \n",
      " 4   Area_sqft     431 non-null    int64  \n",
      " 5   Direction     431 non-null    object \n",
      " 6   Floor         431 non-null    object \n",
      " 7   Possesion     431 non-null    object \n",
      " 8   Main_Area     431 non-null    object \n",
      " 9   Full_Address  420 non-null    object \n",
      " 10  Total_Floor   431 non-null    object \n",
      "dtypes: float64(1), int64(2), object(8)\n",
      "memory usage: 37.2+ KB\n"
     ]
    }
   ],
   "source": [
    "data.info()"
   ]
  },
  {
   "cell_type": "markdown",
   "metadata": {},
   "source": [
    "**Information of Null counts and Data type for each Column**"
   ]
  },
  {
   "cell_type": "code",
   "execution_count": 20,
   "metadata": {},
   "outputs": [
    {
     "data": {
      "text/html": [
       "<div>\n",
       "<style scoped>\n",
       "    .dataframe tbody tr th:only-of-type {\n",
       "        vertical-align: middle;\n",
       "    }\n",
       "\n",
       "    .dataframe tbody tr th {\n",
       "        vertical-align: top;\n",
       "    }\n",
       "\n",
       "    .dataframe thead th {\n",
       "        text-align: right;\n",
       "    }\n",
       "</style>\n",
       "<table border=\"1\" class=\"dataframe\">\n",
       "  <thead>\n",
       "    <tr style=\"text-align: right;\">\n",
       "      <th></th>\n",
       "      <th>Price</th>\n",
       "      <th>BHK</th>\n",
       "      <th>Area_sqft</th>\n",
       "    </tr>\n",
       "  </thead>\n",
       "  <tbody>\n",
       "    <tr>\n",
       "      <th>count</th>\n",
       "      <td>431.000000</td>\n",
       "      <td>431.000000</td>\n",
       "      <td>431.000000</td>\n",
       "    </tr>\n",
       "    <tr>\n",
       "      <th>mean</th>\n",
       "      <td>0.948028</td>\n",
       "      <td>2.542923</td>\n",
       "      <td>1359.712297</td>\n",
       "    </tr>\n",
       "    <tr>\n",
       "      <th>std</th>\n",
       "      <td>0.780451</td>\n",
       "      <td>0.673339</td>\n",
       "      <td>545.984382</td>\n",
       "    </tr>\n",
       "    <tr>\n",
       "      <th>min</th>\n",
       "      <td>0.210000</td>\n",
       "      <td>1.000000</td>\n",
       "      <td>480.000000</td>\n",
       "    </tr>\n",
       "    <tr>\n",
       "      <th>25%</th>\n",
       "      <td>0.550000</td>\n",
       "      <td>2.000000</td>\n",
       "      <td>1018.500000</td>\n",
       "    </tr>\n",
       "    <tr>\n",
       "      <th>50%</th>\n",
       "      <td>0.750000</td>\n",
       "      <td>3.000000</td>\n",
       "      <td>1208.000000</td>\n",
       "    </tr>\n",
       "    <tr>\n",
       "      <th>75%</th>\n",
       "      <td>1.055000</td>\n",
       "      <td>3.000000</td>\n",
       "      <td>1522.500000</td>\n",
       "    </tr>\n",
       "    <tr>\n",
       "      <th>max</th>\n",
       "      <td>9.000000</td>\n",
       "      <td>8.000000</td>\n",
       "      <td>5425.000000</td>\n",
       "    </tr>\n",
       "  </tbody>\n",
       "</table>\n",
       "</div>"
      ],
      "text/plain": [
       "            Price         BHK    Area_sqft\n",
       "count  431.000000  431.000000   431.000000\n",
       "mean     0.948028    2.542923  1359.712297\n",
       "std      0.780451    0.673339   545.984382\n",
       "min      0.210000    1.000000   480.000000\n",
       "25%      0.550000    2.000000  1018.500000\n",
       "50%      0.750000    3.000000  1208.000000\n",
       "75%      1.055000    3.000000  1522.500000\n",
       "max      9.000000    8.000000  5425.000000"
      ]
     },
     "execution_count": 20,
     "metadata": {},
     "output_type": "execute_result"
    }
   ],
   "source": [
    "data.describe()"
   ]
  },
  {
   "cell_type": "code",
   "execution_count": 26,
   "metadata": {},
   "outputs": [
    {
     "data": {
      "text/plain": [
       "(431, 11)"
      ]
     },
     "execution_count": 26,
     "metadata": {},
     "output_type": "execute_result"
    }
   ],
   "source": [
    "data.shape"
   ]
  },
  {
   "cell_type": "markdown",
   "metadata": {},
   "source": [
    "**We have 11 Columns of information and 431 properties listed in the available data in Hyderabad**"
   ]
  },
  {
   "cell_type": "code",
   "execution_count": 81,
   "metadata": {},
   "outputs": [
    {
     "data": {
      "text/plain": [
       "SMR Vinay Iconia            84\n",
       "Dukes Galaxy                72\n",
       "Honer Vivantis              22\n",
       "Sri Hemadurga Sivahills     22\n",
       "PBEL City                   14\n",
       "                            ..\n",
       "Magnam Opus                  1\n",
       "Diamond Estates              1\n",
       "Luxor Apartments             1\n",
       "Venkatadri Apartment         1\n",
       "Sri Sai Ambika Residency     1\n",
       "Name: Society, Length: 155, dtype: int64"
      ]
     },
     "execution_count": 81,
     "metadata": {},
     "output_type": "execute_result"
    }
   ],
   "source": [
    "data.Society.value_counts()"
   ]
  },
  {
   "cell_type": "code",
   "execution_count": 89,
   "metadata": {},
   "outputs": [
    {
     "data": {
      "text/plain": [
       "2    209\n",
       "3    203\n",
       "4     11\n",
       "1      5\n",
       "8      1\n",
       "7      1\n",
       "5      1\n",
       "Name: BHK, dtype: int64"
      ]
     },
     "execution_count": 89,
     "metadata": {},
     "output_type": "execute_result"
    }
   ],
   "source": [
    "data.BHK.value_counts()"
   ]
  },
  {
   "cell_type": "code",
   "execution_count": 90,
   "metadata": {},
   "outputs": [
    {
     "data": {
      "text/plain": [
       "2    0.484919\n",
       "3    0.470998\n",
       "4    0.025522\n",
       "1    0.011601\n",
       "8    0.002320\n",
       "7    0.002320\n",
       "5    0.002320\n",
       "Name: BHK, dtype: float64"
      ]
     },
     "execution_count": 90,
     "metadata": {},
     "output_type": "execute_result"
    }
   ],
   "source": [
    "data.BHK.value_counts(normalize = True)"
   ]
  },
  {
   "cell_type": "markdown",
   "metadata": {},
   "source": [
    "**Observation : 2 BHK and 3 BHK are the most constructed flats to sale which are 95% of the toal flats** "
   ]
  },
  {
   "cell_type": "code",
   "execution_count": 7,
   "metadata": {},
   "outputs": [
    {
     "name": "stderr",
     "output_type": "stream",
     "text": [
      "C:\\Users\\ankit\\anaconda3\\lib\\site-packages\\seaborn\\_decorators.py:36: FutureWarning: Pass the following variable as a keyword arg: x. From version 0.12, the only valid positional argument will be `data`, and passing other arguments without an explicit keyword will result in an error or misinterpretation.\n",
      "  warnings.warn(\n"
     ]
    },
    {
     "data": {
      "text/plain": [
       "Text(0.5, 1.0, 'Number of Flats as per Bedroom Numbers')"
      ]
     },
     "execution_count": 7,
     "metadata": {},
     "output_type": "execute_result"
    },
    {
     "data": {
      "image/png": "[encoded data removed]",
      "text/plain": [
       "<Figure size 864x576 with 1 Axes>"
      ]
     },
     "metadata": {
      "needs_background": "light"
     },
     "output_type": "display_data"
    }
   ],
   "source": [
    "plt.figure(figsize=(12,8))\n",
    "sns.countplot(data.BHK)\n",
    "plt.title('Number of Flats as per Bedroom Numbers',size = 18)\n"
   ]
  },
  {
   "cell_type": "code",
   "execution_count": 10,
   "metadata": {},
   "outputs": [
    {
     "data": {
      "text/plain": [
       "carpet area    379\n",
       "super area      52\n",
       "Name: Area_type, dtype: int64"
      ]
     },
     "execution_count": 10,
     "metadata": {},
     "output_type": "execute_result"
    }
   ],
   "source": [
    "data.Area_type.value_counts()"
   ]
  },
  {
   "cell_type": "code",
   "execution_count": 86,
   "metadata": {},
   "outputs": [
    {
     "data": {
      "text/plain": [
       "East              196\n",
       "West              109\n",
       "North              49\n",
       "North - East       40\n",
       "No Information     15\n",
       "South              13\n",
       "North - West        4\n",
       "South - East        4\n",
       "South -West         1\n",
       "Name: Direction, dtype: int64"
      ]
     },
     "execution_count": 86,
     "metadata": {},
     "output_type": "execute_result"
    }
   ],
   "source": [
    "data.Direction.value_counts()"
   ]
  },
  {
   "cell_type": "code",
   "execution_count": 144,
   "metadata": {},
   "outputs": [
    {
     "data": {
      "image/png": "[encoded data removed]",
      "text/plain": [
       "<Figure size 432x288 with 1 Axes>"
      ]
     },
     "metadata": {
      "needs_background": "light"
     },
     "output_type": "display_data"
    }
   ],
   "source": [
    "plt.plot(data.Direction.value_counts())\n",
    "plt.xticks(rotation = 90)\n",
    "plt.title(\"Count of Flats based on Direction\",fontsize = 15)\n",
    "plt.ylabel('Count')\n",
    "plt.xlabel('Direction')\n",
    "plt.show()"
   ]
  },
  {
   "cell_type": "markdown",
   "metadata": {},
   "source": [
    "**Observation : East is the most popular direction to make the House as it is also suggested best in The Vastushastra**"
   ]
  },
  {
   "cell_type": "code",
   "execution_count": 91,
   "metadata": {},
   "outputs": [
    {
     "data": {
      "text/plain": [
       "3                 73\n",
       "4                 71\n",
       "1                 71\n",
       "2                 70\n",
       "5                 58\n",
       "0                 22\n",
       "8                 11\n",
       "9                  8\n",
       "11                 8\n",
       "6                  7\n",
       "No Information     6\n",
       "10                 5\n",
       "7                  5\n",
       "13                 4\n",
       "16                 2\n",
       "17                 1\n",
       "27                 1\n",
       "25                 1\n",
       "14                 1\n",
       "12                 1\n",
       "18                 1\n",
       "15                 1\n",
       "22                 1\n",
       "28                 1\n",
       "24                 1\n",
       "Name: Floor, dtype: int64"
      ]
     },
     "execution_count": 91,
     "metadata": {},
     "output_type": "execute_result"
    }
   ],
   "source": [
    "data.Floor.value_counts()"
   ]
  },
  {
   "cell_type": "code",
   "execution_count": 146,
   "metadata": {},
   "outputs": [
    {
     "data": {
      "image/png": "[encoded data removed]",
      "text/plain": [
       "<Figure size 1440x720 with 1 Axes>"
      ]
     },
     "metadata": {
      "needs_background": "light"
     },
     "output_type": "display_data"
    }
   ],
   "source": [
    "plt.figure(figsize = (20,10))\n",
    "plt.plot(data.Floor.value_counts())\n",
    "plt.title(\"Flats counts based on Floor Number\", fontsize = 15)\n",
    "plt.xlabel(\"Floor Number\")\n",
    "plt.ylabel(\"Count\")\n",
    "plt.show()"
   ]
  },
  {
   "cell_type": "code",
   "execution_count": 95,
   "metadata": {},
   "outputs": [
    {
     "data": {
      "text/plain": [
       "Ready to Move             426\n",
       "Not decided                 2\n",
       " Possession by Dec '21      2\n",
       " Possession by Nov '22      1\n",
       "Name: Possesion, dtype: int64"
      ]
     },
     "execution_count": 95,
     "metadata": {},
     "output_type": "execute_result"
    }
   ],
   "source": [
    "data.Possesion.value_counts()"
   ]
  },
  {
   "cell_type": "code",
   "execution_count": 96,
   "metadata": {},
   "outputs": [
    {
     "data": {
      "text/plain": [
       "Ready to Move             0.988399\n",
       "Not decided               0.004640\n",
       " Possession by Dec '21    0.004640\n",
       " Possession by Nov '22    0.002320\n",
       "Name: Possesion, dtype: float64"
      ]
     },
     "execution_count": 96,
     "metadata": {},
     "output_type": "execute_result"
    }
   ],
   "source": [
    "data.Possesion.value_counts(normalize=True)"
   ]
  },
  {
   "cell_type": "code",
   "execution_count": 12,
   "metadata": {},
   "outputs": [
    {
     "data": {
      "text/plain": [
       "[<matplotlib.lines.Line2D at 0x281fc1ae910>]"
      ]
     },
     "execution_count": 12,
     "metadata": {},
     "output_type": "execute_result"
    },
    {
     "data": {
      "image/png": "[encoded data removed]",
      "text/plain": [
       "<Figure size 432x288 with 1 Axes>"
      ]
     },
     "metadata": {
      "needs_background": "light"
     },
     "output_type": "display_data"
    }
   ],
   "source": [
    "plt.plot(data.Possesion.value_counts())"
   ]
  },
  {
   "cell_type": "markdown",
   "metadata": {},
   "source": [
    "**Observation : 98.8% flats flats are Ready to Move**"
   ]
  },
  {
   "cell_type": "code",
   "execution_count": 99,
   "metadata": {},
   "outputs": [
    {
     "data": {
      "text/plain": [
       "Gachibowli             24\n",
       "Kondapur               17\n",
       "Kompally               13\n",
       "Nizampet               13\n",
       "Bachupally             12\n",
       "                       ..\n",
       "Hyder Nagar,            1\n",
       "Habsiguda, NH           1\n",
       "Jaya Puri               1\n",
       "Krishna Nagar,          1\n",
       "Jayaprakash Narayan     1\n",
       "Name: Main_Area, Length: 169, dtype: int64"
      ]
     },
     "execution_count": 99,
     "metadata": {},
     "output_type": "execute_result"
    }
   ],
   "source": [
    "data.Main_Area.value_counts()"
   ]
  },
  {
   "cell_type": "code",
   "execution_count": 100,
   "metadata": {},
   "outputs": [
    {
     "data": {
      "text/plain": [
       "Gachibowli             0.055684\n",
       "Kondapur               0.039443\n",
       "Kompally               0.030162\n",
       "Nizampet               0.030162\n",
       "Bachupally             0.027842\n",
       "                         ...   \n",
       "Hyder Nagar,           0.002320\n",
       "Habsiguda, NH          0.002320\n",
       "Jaya Puri              0.002320\n",
       "Krishna Nagar,         0.002320\n",
       "Jayaprakash Narayan    0.002320\n",
       "Name: Main_Area, Length: 169, dtype: float64"
      ]
     },
     "execution_count": 100,
     "metadata": {},
     "output_type": "execute_result"
    }
   ],
   "source": [
    "data.Main_Area.value_counts(normalize=True)"
   ]
  },
  {
   "cell_type": "markdown",
   "metadata": {},
   "source": [
    "*** GacchiBowli, Kondapur , kompally are the areas with highest flats available to sale:**\n",
    "    \n",
    "    If we notice these are located near the edges of the city,\n",
    "    Also Gacchibowli and Kondapur are near the Main IT sector Hub\n",
    "    kompally is the nearest place to Secunderabad where the development is happening"
   ]
  },
  {
   "cell_type": "code",
   "execution_count": 107,
   "metadata": {},
   "outputs": [
    {
     "data": {
      "text/plain": [
       "<AxesSubplot:xlabel='Price'>"
      ]
     },
     "execution_count": 107,
     "metadata": {},
     "output_type": "execute_result"
    },
    {
     "data": {
      "image/png": "[encoded data removed]",
      "text/plain": [
       "<Figure size 720x576 with 1 Axes>"
      ]
     },
     "metadata": {
      "needs_background": "light"
     },
     "output_type": "display_data"
    }
   ],
   "source": [
    "plt.figure(figsize=(10,8))\n",
    "sns.boxplot(x=data['Price'])"
   ]
  },
  {
   "cell_type": "markdown",
   "metadata": {},
   "source": [
    "**Note**- We are not removing Outliers as the prices are High because of the locality and we are studing the data of the whole Hyderabad city"
   ]
  },
  {
   "cell_type": "code",
   "execution_count": 124,
   "metadata": {},
   "outputs": [],
   "source": [
    "Q1 = data.quantile(0.25)\n",
    "Q3 = data.quantile(0.75)\n"
   ]
  },
  {
   "cell_type": "code",
   "execution_count": 125,
   "metadata": {},
   "outputs": [
    {
     "data": {
      "text/plain": [
       "Price           0.55\n",
       "BHK             2.00\n",
       "Area_sqft    1018.50\n",
       "Name: 0.25, dtype: float64"
      ]
     },
     "execution_count": 125,
     "metadata": {},
     "output_type": "execute_result"
    }
   ],
   "source": [
    "(Q1)"
   ]
  },
  {
   "cell_type": "code",
   "execution_count": 122,
   "metadata": {},
   "outputs": [
    {
     "data": {
      "text/plain": [
       "Price           1.055\n",
       "BHK             3.000\n",
       "Area_sqft    1522.500\n",
       "Name: 0.75, dtype: float64"
      ]
     },
     "execution_count": 122,
     "metadata": {},
     "output_type": "execute_result"
    }
   ],
   "source": [
    "Q3"
   ]
  },
  {
   "cell_type": "markdown",
   "metadata": {},
   "source": [
    "**Most flats prices are ranged between 55 lacs to 1.05 crore**"
   ]
  },
  {
   "cell_type": "code",
   "execution_count": 118,
   "metadata": {},
   "outputs": [],
   "source": [
    "IQR = Q3-Q1"
   ]
  },
  {
   "cell_type": "code",
   "execution_count": 120,
   "metadata": {},
   "outputs": [
    {
     "name": "stdout",
     "output_type": "stream",
     "text": [
      "Price          0.505\n",
      "BHK            1.000\n",
      "Area_sqft    504.000\n",
      "dtype: float64\n"
     ]
    }
   ],
   "source": [
    "print(IQR)"
   ]
  },
  {
   "cell_type": "code",
   "execution_count": null,
   "metadata": {},
   "outputs": [],
   "source": []
  },
  {
   "cell_type": "code",
   "execution_count": 51,
   "metadata": {},
   "outputs": [
    {
     "data": {
      "text/plain": [
       "Text(0.5, 1.0, 'Price as per Bedroom')"
      ]
     },
     "execution_count": 51,
     "metadata": {},
     "output_type": "execute_result"
    },
    {
     "data": {
      "image/png": "[encoded data removed]",
      "text/plain": [
       "<Figure size 1080x504 with 2 Axes>"
      ]
     },
     "metadata": {
      "needs_background": "light"
     },
     "output_type": "display_data"
    }
   ],
   "source": [
    "plt.figure(figsize=(15,7))\n",
    "plt.subplot(121)\n",
    "plt.bar(data.Direction,data.Price)\n",
    "plt.xticks(rotation=90)\n",
    "plt.xlabel('Direction')\n",
    "plt.ylabel('Price in Cr', fontsize = 12)\n",
    "plt.title('Price as per Direction',fontsize = 18)\n",
    "plt.subplot(122)\n",
    "plt.bar(data.BHK,data.Price)\n",
    "plt.xlabel('NUmber of Bedroom')\n",
    "plt.ylabel('Price in Cr', fontsize = 12)\n",
    "plt.title('Price as per Bedroom',fontsize = 18)"
   ]
  },
  {
   "cell_type": "markdown",
   "metadata": {},
   "source": [
    "**Observation** : we can not clearly say the most desired direction by makers as Most of the Flats do not have information about the direction.\n",
    "as Per available data North and East are the most availble direction"
   ]
  },
  {
   "cell_type": "code",
   "execution_count": 52,
   "metadata": {},
   "outputs": [
    {
     "data": {
      "text/html": [
       "<div>\n",
       "<style scoped>\n",
       "    .dataframe tbody tr th:only-of-type {\n",
       "        vertical-align: middle;\n",
       "    }\n",
       "\n",
       "    .dataframe tbody tr th {\n",
       "        vertical-align: top;\n",
       "    }\n",
       "\n",
       "    .dataframe thead th {\n",
       "        text-align: right;\n",
       "    }\n",
       "</style>\n",
       "<table border=\"1\" class=\"dataframe\">\n",
       "  <thead>\n",
       "    <tr style=\"text-align: right;\">\n",
       "      <th></th>\n",
       "      <th>Society</th>\n",
       "      <th>Price</th>\n",
       "      <th>BHK</th>\n",
       "      <th>Area_type</th>\n",
       "      <th>Area_sqft</th>\n",
       "      <th>Direction</th>\n",
       "      <th>Floor</th>\n",
       "      <th>Possesion</th>\n",
       "      <th>Main_Area</th>\n",
       "      <th>Full_Address</th>\n",
       "      <th>Total_Floor</th>\n",
       "    </tr>\n",
       "  </thead>\n",
       "  <tbody>\n",
       "    <tr>\n",
       "      <th>1</th>\n",
       "      <td>Dukes Galaxy</td>\n",
       "      <td>2.48</td>\n",
       "      <td>3</td>\n",
       "      <td>carpet area</td>\n",
       "      <td>2020</td>\n",
       "      <td>East</td>\n",
       "      <td>2</td>\n",
       "      <td>Ready to Move</td>\n",
       "      <td>Banjara Hills,</td>\n",
       "      <td>BanjaraHills,NH9</td>\n",
       "      <td>4</td>\n",
       "    </tr>\n",
       "    <tr>\n",
       "      <th>2</th>\n",
       "      <td>Sri Hemadurga Sivahills</td>\n",
       "      <td>1.14</td>\n",
       "      <td>3</td>\n",
       "      <td>super area</td>\n",
       "      <td>1900</td>\n",
       "      <td>No Information</td>\n",
       "      <td>No Information</td>\n",
       "      <td>Possession by Dec '21</td>\n",
       "      <td>Puppalaguda</td>\n",
       "      <td>Puppalaguda</td>\n",
       "      <td>No Information</td>\n",
       "    </tr>\n",
       "    <tr>\n",
       "      <th>3</th>\n",
       "      <td>SMR Vinay Iconia</td>\n",
       "      <td>1.21</td>\n",
       "      <td>2</td>\n",
       "      <td>super area</td>\n",
       "      <td>1495</td>\n",
       "      <td>No Information</td>\n",
       "      <td>No Information</td>\n",
       "      <td>Not decided</td>\n",
       "      <td>Kondapur</td>\n",
       "      <td>Kondapur</td>\n",
       "      <td>No Information</td>\n",
       "    </tr>\n",
       "    <tr>\n",
       "      <th>4</th>\n",
       "      <td>Honer Vivantis</td>\n",
       "      <td>1.30</td>\n",
       "      <td>3</td>\n",
       "      <td>super area</td>\n",
       "      <td>1845</td>\n",
       "      <td>West</td>\n",
       "      <td>11</td>\n",
       "      <td>Ready to Move</td>\n",
       "      <td>Gopanapalli</td>\n",
       "      <td>Gopanapalli</td>\n",
       "      <td>12</td>\n",
       "    </tr>\n",
       "    <tr>\n",
       "      <th>5</th>\n",
       "      <td>PBEL City</td>\n",
       "      <td>0.42</td>\n",
       "      <td>2</td>\n",
       "      <td>carpet area</td>\n",
       "      <td>780</td>\n",
       "      <td>North</td>\n",
       "      <td>3</td>\n",
       "      <td>Ready to Move</td>\n",
       "      <td>Medipally</td>\n",
       "      <td>Medipally</td>\n",
       "      <td>5</td>\n",
       "    </tr>\n",
       "    <tr>\n",
       "      <th>...</th>\n",
       "      <td>...</td>\n",
       "      <td>...</td>\n",
       "      <td>...</td>\n",
       "      <td>...</td>\n",
       "      <td>...</td>\n",
       "      <td>...</td>\n",
       "      <td>...</td>\n",
       "      <td>...</td>\n",
       "      <td>...</td>\n",
       "      <td>...</td>\n",
       "      <td>...</td>\n",
       "    </tr>\n",
       "    <tr>\n",
       "      <th>427</th>\n",
       "      <td>SMR Vinay Iconia</td>\n",
       "      <td>0.44</td>\n",
       "      <td>2</td>\n",
       "      <td>carpet area</td>\n",
       "      <td>900</td>\n",
       "      <td>West</td>\n",
       "      <td>5</td>\n",
       "      <td>Ready to Move</td>\n",
       "      <td>Uppal, NH</td>\n",
       "      <td>Uppal,NH22</td>\n",
       "      <td>5</td>\n",
       "    </tr>\n",
       "    <tr>\n",
       "      <th>428</th>\n",
       "      <td>Rajapushpa Regalia</td>\n",
       "      <td>0.90</td>\n",
       "      <td>3</td>\n",
       "      <td>carpet area</td>\n",
       "      <td>1480</td>\n",
       "      <td>East</td>\n",
       "      <td>1</td>\n",
       "      <td>Ready to Move</td>\n",
       "      <td>DD Colony,</td>\n",
       "      <td>DDColony,Amberpet</td>\n",
       "      <td>5</td>\n",
       "    </tr>\n",
       "    <tr>\n",
       "      <th>429</th>\n",
       "      <td>Dukes Galaxy</td>\n",
       "      <td>1.20</td>\n",
       "      <td>2</td>\n",
       "      <td>carpet area</td>\n",
       "      <td>1240</td>\n",
       "      <td>South</td>\n",
       "      <td>9</td>\n",
       "      <td>Ready to Move</td>\n",
       "      <td>Hitech City</td>\n",
       "      <td>HitechCity</td>\n",
       "      <td>11</td>\n",
       "    </tr>\n",
       "    <tr>\n",
       "      <th>430</th>\n",
       "      <td>SMR Vinay Iconia</td>\n",
       "      <td>0.45</td>\n",
       "      <td>2</td>\n",
       "      <td>carpet area</td>\n",
       "      <td>980</td>\n",
       "      <td>East</td>\n",
       "      <td>1</td>\n",
       "      <td>Ready to Move</td>\n",
       "      <td>Miyapur, NH</td>\n",
       "      <td>Miyapur,NH9</td>\n",
       "      <td>3</td>\n",
       "    </tr>\n",
       "    <tr>\n",
       "      <th>431</th>\n",
       "      <td>Dukes Galaxy</td>\n",
       "      <td>0.55</td>\n",
       "      <td>2</td>\n",
       "      <td>carpet area</td>\n",
       "      <td>900</td>\n",
       "      <td>No Information</td>\n",
       "      <td>5</td>\n",
       "      <td>Ready to Move</td>\n",
       "      <td>Attapur</td>\n",
       "      <td>Attapur</td>\n",
       "      <td>11</td>\n",
       "    </tr>\n",
       "  </tbody>\n",
       "</table>\n",
       "<p>431 rows × 11 columns</p>\n",
       "</div>"
      ],
      "text/plain": [
       "                     Society  Price  BHK    Area_type  Area_sqft  \\\n",
       "1               Dukes Galaxy   2.48    3  carpet area       2020   \n",
       "2    Sri Hemadurga Sivahills   1.14    3   super area       1900   \n",
       "3           SMR Vinay Iconia   1.21    2   super area       1495   \n",
       "4             Honer Vivantis   1.30    3   super area       1845   \n",
       "5                  PBEL City   0.42    2  carpet area        780   \n",
       "..                       ...    ...  ...          ...        ...   \n",
       "427         SMR Vinay Iconia   0.44    2  carpet area        900   \n",
       "428       Rajapushpa Regalia   0.90    3  carpet area       1480   \n",
       "429             Dukes Galaxy   1.20    2  carpet area       1240   \n",
       "430         SMR Vinay Iconia   0.45    2  carpet area        980   \n",
       "431             Dukes Galaxy   0.55    2  carpet area        900   \n",
       "\n",
       "          Direction           Floor               Possesion       Main_Area  \\\n",
       "1              East               2         Ready to Move    Banjara Hills,   \n",
       "2    No Information  No Information   Possession by Dec '21   Puppalaguda     \n",
       "3    No Information  No Information             Not decided      Kondapur     \n",
       "4              West              11         Ready to Move     Gopanapalli     \n",
       "5             North               3         Ready to Move       Medipally     \n",
       "..              ...             ...                     ...             ...   \n",
       "427            West               5         Ready to Move         Uppal, NH   \n",
       "428            East               1         Ready to Move        DD Colony,   \n",
       "429           South               9         Ready to Move       Hitech City   \n",
       "430            East               1         Ready to Move       Miyapur, NH   \n",
       "431  No Information               5         Ready to Move         Attapur     \n",
       "\n",
       "          Full_Address     Total_Floor  \n",
       "1     BanjaraHills,NH9               4  \n",
       "2          Puppalaguda  No Information  \n",
       "3             Kondapur  No Information  \n",
       "4          Gopanapalli              12  \n",
       "5            Medipally               5  \n",
       "..                 ...             ...  \n",
       "427         Uppal,NH22               5  \n",
       "428  DDColony,Amberpet               5  \n",
       "429         HitechCity              11  \n",
       "430        Miyapur,NH9               3  \n",
       "431            Attapur              11  \n",
       "\n",
       "[431 rows x 11 columns]"
      ]
     },
     "execution_count": 52,
     "metadata": {},
     "output_type": "execute_result"
    }
   ],
   "source": [
    "data"
   ]
  },
  {
   "cell_type": "code",
   "execution_count": 18,
   "metadata": {},
   "outputs": [
    {
     "data": {
      "text/plain": [
       "Text(0.5, 1.0, 'Area Type Count')"
      ]
     },
     "execution_count": 18,
     "metadata": {},
     "output_type": "execute_result"
    },
    {
     "data": {
      "image/png": "[encoded data removed]",
      "text/plain": [
       "<Figure size 432x288 with 1 Axes>"
      ]
     },
     "metadata": {
      "needs_background": "light"
     },
     "output_type": "display_data"
    }
   ],
   "source": [
    "sns.countplot(data.Area_type)\n",
    "plt.xlabel('Area type')\n",
    "plt.title('Area Type Count',fontsize = 18)"
   ]
  },
  {
   "cell_type": "code",
   "execution_count": 9,
   "metadata": {},
   "outputs": [
    {
     "data": {
      "text/plain": [
       "carpet area    379\n",
       "super area      52\n",
       "Name: Area_type, dtype: int64"
      ]
     },
     "execution_count": 9,
     "metadata": {},
     "output_type": "execute_result"
    }
   ],
   "source": [
    "data.Area_type.value_counts()"
   ]
  },
  {
   "cell_type": "markdown",
   "metadata": {},
   "source": [
    "**Observation**: The 88% flats have described area in carpet area. Which is the ultimate space that is usable in a flat.\n",
    "    Carpet area = Area of bedroom + living room + balconies + toilets – the thickness of the inner walls\n",
    "    \n",
    "Super Area contains : Super Area includes all the area which a saler is providing including the common area also.\n",
    "         Super built-up area = Built-up area + proportionate common area\n",
    "            \n",
    "**So while purchasing a flat take carpet area in consideration**"
   ]
  },
  {
   "cell_type": "code",
   "execution_count": 17,
   "metadata": {},
   "outputs": [
    {
     "data": {
      "text/plain": [
       "586036"
      ]
     },
     "execution_count": 17,
     "metadata": {},
     "output_type": "execute_result"
    }
   ],
   "source": [
    "(data.Area_sqft.sum())"
   ]
  },
  {
   "cell_type": "markdown",
   "metadata": {},
   "source": [
    "### Observation \n",
    "**The 431 flats have the toal area of 5 lac 86 thousand square feet . The website had nearly 950 flats listed so we can infer that the hyderabad city has residential flats of atleast 10 lac square feet area.**"
   ]
  },
  {
   "cell_type": "code",
   "execution_count": 24,
   "metadata": {},
   "outputs": [
    {
     "data": {
      "text/html": [
       "<div>\n",
       "<style scoped>\n",
       "    .dataframe tbody tr th:only-of-type {\n",
       "        vertical-align: middle;\n",
       "    }\n",
       "\n",
       "    .dataframe tbody tr th {\n",
       "        vertical-align: top;\n",
       "    }\n",
       "\n",
       "    .dataframe thead th {\n",
       "        text-align: right;\n",
       "    }\n",
       "</style>\n",
       "<table border=\"1\" class=\"dataframe\">\n",
       "  <thead>\n",
       "    <tr style=\"text-align: right;\">\n",
       "      <th></th>\n",
       "      <th>Society</th>\n",
       "      <th>Price</th>\n",
       "      <th>BHK</th>\n",
       "      <th>Area_type</th>\n",
       "      <th>Area_sqft</th>\n",
       "      <th>Direction</th>\n",
       "      <th>Floor</th>\n",
       "      <th>Possesion</th>\n",
       "      <th>Main_Area</th>\n",
       "      <th>Full_Address</th>\n",
       "      <th>Total_Floor</th>\n",
       "    </tr>\n",
       "  </thead>\n",
       "  <tbody>\n",
       "    <tr>\n",
       "      <th>1</th>\n",
       "      <td>Dukes Galaxy</td>\n",
       "      <td>2.48</td>\n",
       "      <td>3</td>\n",
       "      <td>carpet area</td>\n",
       "      <td>2020</td>\n",
       "      <td>East</td>\n",
       "      <td>2</td>\n",
       "      <td>Ready to Move</td>\n",
       "      <td>Banjara Hills,</td>\n",
       "      <td>BanjaraHills,NH9</td>\n",
       "      <td>4</td>\n",
       "    </tr>\n",
       "    <tr>\n",
       "      <th>2</th>\n",
       "      <td>Sri Hemadurga Sivahills</td>\n",
       "      <td>1.14</td>\n",
       "      <td>3</td>\n",
       "      <td>super area</td>\n",
       "      <td>1900</td>\n",
       "      <td>No Information</td>\n",
       "      <td>No Information</td>\n",
       "      <td>Possession by Dec '21</td>\n",
       "      <td>Puppalaguda</td>\n",
       "      <td>Puppalaguda</td>\n",
       "      <td>No Information</td>\n",
       "    </tr>\n",
       "    <tr>\n",
       "      <th>3</th>\n",
       "      <td>SMR Vinay Iconia</td>\n",
       "      <td>1.21</td>\n",
       "      <td>2</td>\n",
       "      <td>super area</td>\n",
       "      <td>1495</td>\n",
       "      <td>No Information</td>\n",
       "      <td>No Information</td>\n",
       "      <td>Not decided</td>\n",
       "      <td>Kondapur</td>\n",
       "      <td>Kondapur</td>\n",
       "      <td>No Information</td>\n",
       "    </tr>\n",
       "    <tr>\n",
       "      <th>4</th>\n",
       "      <td>Honer Vivantis</td>\n",
       "      <td>1.30</td>\n",
       "      <td>3</td>\n",
       "      <td>super area</td>\n",
       "      <td>1845</td>\n",
       "      <td>West</td>\n",
       "      <td>11</td>\n",
       "      <td>Ready to Move</td>\n",
       "      <td>Gopanapalli</td>\n",
       "      <td>Gopanapalli</td>\n",
       "      <td>12</td>\n",
       "    </tr>\n",
       "    <tr>\n",
       "      <th>5</th>\n",
       "      <td>PBEL City</td>\n",
       "      <td>0.42</td>\n",
       "      <td>2</td>\n",
       "      <td>carpet area</td>\n",
       "      <td>780</td>\n",
       "      <td>North</td>\n",
       "      <td>3</td>\n",
       "      <td>Ready to Move</td>\n",
       "      <td>Medipally</td>\n",
       "      <td>Medipally</td>\n",
       "      <td>5</td>\n",
       "    </tr>\n",
       "    <tr>\n",
       "      <th>...</th>\n",
       "      <td>...</td>\n",
       "      <td>...</td>\n",
       "      <td>...</td>\n",
       "      <td>...</td>\n",
       "      <td>...</td>\n",
       "      <td>...</td>\n",
       "      <td>...</td>\n",
       "      <td>...</td>\n",
       "      <td>...</td>\n",
       "      <td>...</td>\n",
       "      <td>...</td>\n",
       "    </tr>\n",
       "    <tr>\n",
       "      <th>427</th>\n",
       "      <td>SMR Vinay Iconia</td>\n",
       "      <td>0.44</td>\n",
       "      <td>2</td>\n",
       "      <td>carpet area</td>\n",
       "      <td>900</td>\n",
       "      <td>West</td>\n",
       "      <td>5</td>\n",
       "      <td>Ready to Move</td>\n",
       "      <td>Uppal, NH</td>\n",
       "      <td>Uppal,NH22</td>\n",
       "      <td>5</td>\n",
       "    </tr>\n",
       "    <tr>\n",
       "      <th>428</th>\n",
       "      <td>Rajapushpa Regalia</td>\n",
       "      <td>0.90</td>\n",
       "      <td>3</td>\n",
       "      <td>carpet area</td>\n",
       "      <td>1480</td>\n",
       "      <td>East</td>\n",
       "      <td>1</td>\n",
       "      <td>Ready to Move</td>\n",
       "      <td>DD Colony,</td>\n",
       "      <td>DDColony,Amberpet</td>\n",
       "      <td>5</td>\n",
       "    </tr>\n",
       "    <tr>\n",
       "      <th>429</th>\n",
       "      <td>Dukes Galaxy</td>\n",
       "      <td>1.20</td>\n",
       "      <td>2</td>\n",
       "      <td>carpet area</td>\n",
       "      <td>1240</td>\n",
       "      <td>South</td>\n",
       "      <td>9</td>\n",
       "      <td>Ready to Move</td>\n",
       "      <td>Hitech City</td>\n",
       "      <td>HitechCity</td>\n",
       "      <td>11</td>\n",
       "    </tr>\n",
       "    <tr>\n",
       "      <th>430</th>\n",
       "      <td>SMR Vinay Iconia</td>\n",
       "      <td>0.45</td>\n",
       "      <td>2</td>\n",
       "      <td>carpet area</td>\n",
       "      <td>980</td>\n",
       "      <td>East</td>\n",
       "      <td>1</td>\n",
       "      <td>Ready to Move</td>\n",
       "      <td>Miyapur, NH</td>\n",
       "      <td>Miyapur,NH9</td>\n",
       "      <td>3</td>\n",
       "    </tr>\n",
       "    <tr>\n",
       "      <th>431</th>\n",
       "      <td>Dukes Galaxy</td>\n",
       "      <td>0.55</td>\n",
       "      <td>2</td>\n",
       "      <td>carpet area</td>\n",
       "      <td>900</td>\n",
       "      <td>No Information</td>\n",
       "      <td>5</td>\n",
       "      <td>Ready to Move</td>\n",
       "      <td>Attapur</td>\n",
       "      <td>Attapur</td>\n",
       "      <td>11</td>\n",
       "    </tr>\n",
       "  </tbody>\n",
       "</table>\n",
       "<p>431 rows × 11 columns</p>\n",
       "</div>"
      ],
      "text/plain": [
       "                     Society  Price  BHK    Area_type  Area_sqft  \\\n",
       "1               Dukes Galaxy   2.48    3  carpet area       2020   \n",
       "2    Sri Hemadurga Sivahills   1.14    3   super area       1900   \n",
       "3           SMR Vinay Iconia   1.21    2   super area       1495   \n",
       "4             Honer Vivantis   1.30    3   super area       1845   \n",
       "5                  PBEL City   0.42    2  carpet area        780   \n",
       "..                       ...    ...  ...          ...        ...   \n",
       "427         SMR Vinay Iconia   0.44    2  carpet area        900   \n",
       "428       Rajapushpa Regalia   0.90    3  carpet area       1480   \n",
       "429             Dukes Galaxy   1.20    2  carpet area       1240   \n",
       "430         SMR Vinay Iconia   0.45    2  carpet area        980   \n",
       "431             Dukes Galaxy   0.55    2  carpet area        900   \n",
       "\n",
       "          Direction           Floor               Possesion       Main_Area  \\\n",
       "1              East               2         Ready to Move    Banjara Hills,   \n",
       "2    No Information  No Information   Possession by Dec '21   Puppalaguda     \n",
       "3    No Information  No Information             Not decided      Kondapur     \n",
       "4              West              11         Ready to Move     Gopanapalli     \n",
       "5             North               3         Ready to Move       Medipally     \n",
       "..              ...             ...                     ...             ...   \n",
       "427            West               5         Ready to Move         Uppal, NH   \n",
       "428            East               1         Ready to Move        DD Colony,   \n",
       "429           South               9         Ready to Move       Hitech City   \n",
       "430            East               1         Ready to Move       Miyapur, NH   \n",
       "431  No Information               5         Ready to Move         Attapur     \n",
       "\n",
       "          Full_Address     Total_Floor  \n",
       "1     BanjaraHills,NH9               4  \n",
       "2          Puppalaguda  No Information  \n",
       "3             Kondapur  No Information  \n",
       "4          Gopanapalli              12  \n",
       "5            Medipally               5  \n",
       "..                 ...             ...  \n",
       "427         Uppal,NH22               5  \n",
       "428  DDColony,Amberpet               5  \n",
       "429         HitechCity              11  \n",
       "430        Miyapur,NH9               3  \n",
       "431            Attapur              11  \n",
       "\n",
       "[431 rows x 11 columns]"
      ]
     },
     "execution_count": 24,
     "metadata": {},
     "output_type": "execute_result"
    }
   ],
   "source": [
    "data"
   ]
  },
  {
   "cell_type": "code",
   "execution_count": 33,
   "metadata": {},
   "outputs": [
    {
     "data": {
      "image/png": "[encoded data removed]",
      "text/plain": [
       "<Figure size 540x540 with 12 Axes>"
      ]
     },
     "metadata": {
      "needs_background": "light"
     },
     "output_type": "display_data"
    }
   ],
   "source": [
    "sns.pairplot(data)\n",
    "plt.show()"
   ]
  },
  {
   "cell_type": "code",
   "execution_count": 16,
   "metadata": {},
   "outputs": [
    {
     "data": {
      "text/plain": [
       "<AxesSubplot:xlabel='BHK', ylabel='Area_sqft'>"
      ]
     },
     "execution_count": 16,
     "metadata": {},
     "output_type": "execute_result"
    },
    {
     "data": {
      "image/png": "[encoded data removed]",
      "text/plain": [
       "<Figure size 432x288 with 1 Axes>"
      ]
     },
     "metadata": {
      "needs_background": "light"
     },
     "output_type": "display_data"
    }
   ],
   "source": [
    "sns.lineplot(data = data, x=data.BHK, y=data.Area_sqft)"
   ]
  },
  {
   "cell_type": "raw",
   "metadata": {},
   "source": [
    "### Observation: \n",
    "The best flat can be made in the max area used in the available data based on the number of bedroom category.\n",
    "1. A very good 1 BHK flat can be made in less than 1000 sqft The available flat with maximum size = approx 800 sqft \n",
    "2. A very good 2 BHK flat can be made in less than 2000 sqft The available flat with maximum size = approx 2000 sqft \n",
    "3. A very good 3 BHK flat can be made in less than 3000 sqft The available flat with maximum size = approx 4500 sqft\n",
    "4. A very good 4 BHK flat can be made in less than 3500 sqft The available flat with maximum size = approx 6000 sqft\n",
    "5. A very good 5 BHK flat can be made in less than 4500 sqft The available flat with maximum size = approx 4500 sqft\n",
    "6. A very good 7 BHK flat can be made in less than 1000 sqft The available flat with maximum size = approx  sqft\n",
    "7. A very good 8 BHK flat can be made in less than 1000 sqft The available flat with maximum size = approx 800 sqft\n"
   ]
  },
  {
   "cell_type": "code",
   "execution_count": null,
   "metadata": {},
   "outputs": [],
   "source": []
  },
  {
   "cell_type": "code",
   "execution_count": 34,
   "metadata": {
    "scrolled": false
   },
   "outputs": [
    {
     "data": {
      "text/html": [
       "<div>\n",
       "<style scoped>\n",
       "    .dataframe tbody tr th:only-of-type {\n",
       "        vertical-align: middle;\n",
       "    }\n",
       "\n",
       "    .dataframe tbody tr th {\n",
       "        vertical-align: top;\n",
       "    }\n",
       "\n",
       "    .dataframe thead th {\n",
       "        text-align: right;\n",
       "    }\n",
       "</style>\n",
       "<table border=\"1\" class=\"dataframe\">\n",
       "  <thead>\n",
       "    <tr style=\"text-align: right;\">\n",
       "      <th></th>\n",
       "      <th>Price</th>\n",
       "      <th>BHK</th>\n",
       "      <th>Area_sqft</th>\n",
       "    </tr>\n",
       "  </thead>\n",
       "  <tbody>\n",
       "    <tr>\n",
       "      <th>Price</th>\n",
       "      <td>1.000000</td>\n",
       "      <td>0.474320</td>\n",
       "      <td>0.846759</td>\n",
       "    </tr>\n",
       "    <tr>\n",
       "      <th>BHK</th>\n",
       "      <td>0.474320</td>\n",
       "      <td>1.000000</td>\n",
       "      <td>0.590461</td>\n",
       "    </tr>\n",
       "    <tr>\n",
       "      <th>Area_sqft</th>\n",
       "      <td>0.846759</td>\n",
       "      <td>0.590461</td>\n",
       "      <td>1.000000</td>\n",
       "    </tr>\n",
       "  </tbody>\n",
       "</table>\n",
       "</div>"
      ],
      "text/plain": [
       "              Price       BHK  Area_sqft\n",
       "Price      1.000000  0.474320   0.846759\n",
       "BHK        0.474320  1.000000   0.590461\n",
       "Area_sqft  0.846759  0.590461   1.000000"
      ]
     },
     "execution_count": 34,
     "metadata": {},
     "output_type": "execute_result"
    }
   ],
   "source": [
    "data.corr()"
   ]
  },
  {
   "cell_type": "code",
   "execution_count": 36,
   "metadata": {},
   "outputs": [
    {
     "data": {
      "text/plain": [
       "<AxesSubplot:>"
      ]
     },
     "execution_count": 36,
     "metadata": {},
     "output_type": "execute_result"
    },
    {
     "data": {
      "image/png": "[encoded data removed]",
      "text/plain": [
       "<Figure size 432x288 with 2 Axes>"
      ]
     },
     "metadata": {
      "needs_background": "light"
     },
     "output_type": "display_data"
    }
   ],
   "source": [
    "sns.heatmap(data.corr())"
   ]
  },
  {
   "cell_type": "markdown",
   "metadata": {},
   "source": [
    "**Observation:**\n",
    "Price is mostly correlated to only Area. So the price has less dependency on  number of bedrooms on comparing with Area. "
   ]
  },
  {
   "cell_type": "code",
   "execution_count": 19,
   "metadata": {},
   "outputs": [
    {
     "name": "stdout",
     "output_type": "stream",
     "text": [
      "   BHK     Price    Area_sqft\n",
      "0    1  0.376000   530.400000\n",
      "1    2  0.622392  1049.995215\n",
      "2    3  1.161232  1601.891626\n",
      "3    4  3.073636  2930.090909\n",
      "4    5  4.500000  4400.000000\n",
      "5    7  1.550000  1400.000000\n",
      "6    8  1.050000   720.000000\n"
     ]
    }
   ],
   "source": [
    "B = data.groupby([data.BHK]).mean().reset_index()\n",
    "print(B)"
   ]
  },
  {
   "cell_type": "code",
   "execution_count": null,
   "metadata": {},
   "outputs": [],
   "source": []
  },
  {
   "cell_type": "code",
   "execution_count": 51,
   "metadata": {},
   "outputs": [
    {
     "data": {
      "text/plain": [
       "1359.7122969837587"
      ]
     },
     "execution_count": 51,
     "metadata": {},
     "output_type": "execute_result"
    }
   ],
   "source": [
    "data.Area_sqft.mean()"
   ]
  },
  {
   "cell_type": "code",
   "execution_count": 72,
   "metadata": {},
   "outputs": [
    {
     "data": {
      "text/plain": [
       "1    0.376000\n",
       "2    0.622392\n",
       "3    1.161232\n",
       "4    3.073636\n",
       "5    4.500000\n",
       "6    1.550000\n",
       "7    1.050000\n",
       "Name: Price, dtype: float64"
      ]
     },
     "execution_count": 72,
     "metadata": {},
     "output_type": "execute_result"
    }
   ],
   "source": []
  },
  {
   "cell_type": "code",
   "execution_count": 23,
   "metadata": {},
   "outputs": [
    {
     "data": {
      "text/html": [
       "<div>\n",
       "<style scoped>\n",
       "    .dataframe tbody tr th:only-of-type {\n",
       "        vertical-align: middle;\n",
       "    }\n",
       "\n",
       "    .dataframe tbody tr th {\n",
       "        vertical-align: top;\n",
       "    }\n",
       "\n",
       "    .dataframe thead th {\n",
       "        text-align: right;\n",
       "    }\n",
       "</style>\n",
       "<table border=\"1\" class=\"dataframe\">\n",
       "  <thead>\n",
       "    <tr style=\"text-align: right;\">\n",
       "      <th></th>\n",
       "      <th>Main_Area</th>\n",
       "      <th>Price</th>\n",
       "    </tr>\n",
       "  </thead>\n",
       "  <tbody>\n",
       "    <tr>\n",
       "      <th>91</th>\n",
       "      <td>MLA Colony,</td>\n",
       "      <td>4.500000</td>\n",
       "    </tr>\n",
       "    <tr>\n",
       "      <th>70</th>\n",
       "      <td>Jubilee Hills</td>\n",
       "      <td>4.250000</td>\n",
       "    </tr>\n",
       "    <tr>\n",
       "      <th>150</th>\n",
       "      <td>Srinagar Colony,</td>\n",
       "      <td>3.995000</td>\n",
       "    </tr>\n",
       "    <tr>\n",
       "      <th>1</th>\n",
       "      <td>Abids, NH</td>\n",
       "      <td>3.420000</td>\n",
       "    </tr>\n",
       "    <tr>\n",
       "      <th>148</th>\n",
       "      <td>Somajiguda, NH</td>\n",
       "      <td>2.750000</td>\n",
       "    </tr>\n",
       "    <tr>\n",
       "      <th>60</th>\n",
       "      <td>Huda Colony-Attapur,</td>\n",
       "      <td>2.250000</td>\n",
       "    </tr>\n",
       "    <tr>\n",
       "      <th>145</th>\n",
       "      <td>Shaikpet</td>\n",
       "      <td>2.225000</td>\n",
       "    </tr>\n",
       "    <tr>\n",
       "      <th>84</th>\n",
       "      <td>Krishna Nagar,</td>\n",
       "      <td>2.100000</td>\n",
       "    </tr>\n",
       "    <tr>\n",
       "      <th>92</th>\n",
       "      <td>Madhapur</td>\n",
       "      <td>1.960000</td>\n",
       "    </tr>\n",
       "    <tr>\n",
       "      <th>19</th>\n",
       "      <td>Banjara Hills,</td>\n",
       "      <td>1.931111</td>\n",
       "    </tr>\n",
       "  </tbody>\n",
       "</table>\n",
       "</div>"
      ],
      "text/plain": [
       "                Main_Area     Price\n",
       "91            MLA Colony,  4.500000\n",
       "70          Jubilee Hills  4.250000\n",
       "150      Srinagar Colony,  3.995000\n",
       "1               Abids, NH  3.420000\n",
       "148        Somajiguda, NH  2.750000\n",
       "60   Huda Colony-Attapur,  2.250000\n",
       "145            Shaikpet    2.225000\n",
       "84         Krishna Nagar,  2.100000\n",
       "92             Madhapur    1.960000\n",
       "19         Banjara Hills,  1.931111"
      ]
     },
     "execution_count": 23,
     "metadata": {},
     "output_type": "execute_result"
    }
   ],
   "source": [
    "c = data.groupby(data.Main_Area)['Price'].mean().reset_index().sort_values('Price',ascending=False).head(10)\n",
    "c"
   ]
  },
  {
   "cell_type": "code",
   "execution_count": 134,
   "metadata": {},
   "outputs": [
    {
     "data": {
      "image/png": "[encoded data removed]",
      "text/plain": [
       "<Figure size 1080x432 with 3 Axes>"
      ]
     },
     "metadata": {
      "needs_background": "light"
     },
     "output_type": "display_data"
    }
   ],
   "source": [
    "plt.figure(figsize=(15,6))\n",
    "plt.subplot(131)\n",
    "sns.lineplot(data=B,x=B.Area_sqft,y=B.Price)\n",
    "plt.subplot(132)\n",
    "sns.lineplot(data=B,x=B.BHK,y=B.Price)\n",
    "plt.subplot(133)\n",
    "sns.lineplot(data=c,x='Main_Area',y='Price')\n",
    "plt.xticks(rotation=90)\n",
    "plt.show()"
   ]
  },
  {
   "cell_type": "markdown",
   "metadata": {},
   "source": [
    "### Conclusion\n",
    "\n",
    "1. The co-relation between Area and Price is .8467. We can infere that if customer increases the size of flat to purchase then the price would have chances to  increase by 84%\n",
    "2. Average Price - As per the Analysis ofdata sample the buyer could estimate his budget as per below average prices \n",
    "    Overall  -  95 Lakh(Including all the outliers, There are flats of 9crore also reason being the location, jubilee hills.)\n",
    "    1 BHK    - 37.5 Lac\n",
    "    2 BHK    - 62 Lac\n",
    "    3 BHK    - 1.16 cr\n",
    "    4 BHK    - 3 cr\n",
    "    5 BHK    - 4.5 cr\n",
    "3. Average Size of the flat\n",
    "     Overall  - 1360 sqft\n",
    "     1 BHK    - 530 sqft\n",
    "    2 BHK     - 1049 sqft\n",
    "    3 BHK     - 1601 sqft\n",
    "    4 BHK     - 2930 sqft\n",
    "    5 BHK     - 4400 sqft\n",
    "    \n",
    "4. By the graph we can understand that the prices are maximum at MLA Colony, Jubilee Hills, Srinagar Colony\n",
    "These can be considered tha posh area of the city"
   ]
  }
 ],
 "metadata": {
  "kernelspec": {
   "display_name": "Python 3 (ipykernel)",
   "language": "python",
   "name": "python3"
  },
  "language_info": {
   "codemirror_mode": {
    "name": "ipython",
    "version": 3
   },
   "file_extension": ".py",
   "mimetype": "text/x-python",
   "name": "python",
   "nbconvert_exporter": "python",
   "pygments_lexer": "ipython3",
   "version": "3.9.12"
  }
 },
 "nbformat": 4,
 "nbformat_minor": 4
}
